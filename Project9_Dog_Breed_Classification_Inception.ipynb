{
  "metadata": {
    "kernelspec": {
      "language": "python",
      "display_name": "Python 3",
      "name": "python3"
    },
    "language_info": {
      "pygments_lexer": "ipython3",
      "nbconvert_exporter": "python",
      "version": "3.6.4",
      "file_extension": ".py",
      "codemirror_mode": {
        "name": "ipython",
        "version": 3
      },
      "name": "python",
      "mimetype": "text/x-python"
    },
    "colab": {
      "name": "Dog Breed Classification Inception",
      "provenance": [],
      "include_colab_link": true
    }
  },
  "nbformat_minor": 0,
  "nbformat": 4,
  "cells": [
    {
      "cell_type": "markdown",
      "metadata": {
        "id": "view-in-github",
        "colab_type": "text"
      },
      "source": [
        "<a href=\"https://colab.research.google.com/github/radhakrishnan-omotec/arwan-iris-dog-repo/blob/main/Project9_Dog_Breed_Classification_Inception.ipynb\" target=\"_parent\"><img src=\"https://colab.research.google.com/assets/colab-badge.svg\" alt=\"Open In Colab\"/></a>"
      ]
    },
    {
      "source": [
        "# IMPORTANT: RUN THIS CELL IN ORDER TO IMPORT YOUR KAGGLE DATA SOURCES,\n",
        "# THEN FEEL FREE TO DELETE THIS CELL.\n",
        "# NOTE: THIS NOTEBOOK ENVIRONMENT DIFFERS FROM KAGGLE'S PYTHON\n",
        "# ENVIRONMENT SO THERE MAY BE MISSING LIBRARIES USED BY YOUR\n",
        "# NOTEBOOK.\n",
        "import kagglehub\n",
        "kabilan03_dogbreedclassification_path = kagglehub.dataset_download('kabilan03/dogbreedclassification')\n",
        "\n",
        "print('Data source import complete.')\n"
      ],
      "metadata": {
        "id": "DHHo6EvfNaCH"
      },
      "cell_type": "code",
      "outputs": [],
      "execution_count": null
    },
    {
      "cell_type": "code",
      "source": [
        "# This Python 3 environment comes with many helpful analytics libraries installed\n",
        "# It is defined by the kaggle/python Docker image: https://github.com/kaggle/docker-python\n",
        "# For example, here's several helpful packages to load\n",
        "\n",
        "import numpy as np # linear algebra\n",
        "import pandas as pd # data processing, CSV file I/O (e.g. pd.read_csv)\n",
        "\n",
        "# Input data files are available in the read-only \"../input/\" directory\n",
        "# For example, running this (by clicking run or pressing Shift+Enter) will list all files under the input directory\n",
        "\n",
        "import os\n",
        "# for dirname, _, filenames in os.walk('/kaggle/input'):\n",
        "#     for filename in filenames:\n",
        "#         print(os.path.join(dirname, filename))\n",
        "\n",
        "# You can write up to 20GB to the current directory (/kaggle/working/) that gets preserved as output when you create a version using \"Save & Run All\"\n",
        "# You can also write temporary files to /kaggle/temp/, but they won't be saved outside of the current session"
      ],
      "metadata": {
        "_uuid": "8f2839f25d086af736a60e9eeb907d3b93b6e0e5",
        "_cell_guid": "b1076dfc-b9ad-4769-8c92-a6c4dae69d19",
        "execution": {
          "iopub.status.busy": "2022-03-18T03:16:14.074785Z",
          "iopub.execute_input": "2022-03-18T03:16:14.075112Z",
          "iopub.status.idle": "2022-03-18T03:16:14.098595Z",
          "shell.execute_reply.started": "2022-03-18T03:16:14.07504Z",
          "shell.execute_reply": "2022-03-18T03:16:14.098007Z"
        },
        "trusted": true,
        "id": "87WFDeO3NaCL"
      },
      "execution_count": null,
      "outputs": []
    },
    {
      "cell_type": "markdown",
      "source": [
        "# <center> Dog Breed Classification using Inception"
      ],
      "metadata": {
        "id": "5oeUJqWUNaCL"
      }
    },
    {
      "cell_type": "markdown",
      "source": [
        "**Team Members:**\n",
        "* **ADHITHAN P**\n",
        "* **ANUVARSHINI S P**\n",
        "* **KABILAN N**\n",
        "* **SIVAMARAN M A C**"
      ],
      "metadata": {
        "id": "M84LCrlANaCM"
      }
    },
    {
      "cell_type": "markdown",
      "source": [
        "**Dataset** -> https://www.kaggle.com/kabilan03/dogbreedclassification"
      ],
      "metadata": {
        "id": "6yzvtrtJNaCN"
      }
    },
    {
      "cell_type": "markdown",
      "source": [
        "## Importing Packages"
      ],
      "metadata": {
        "id": "V0m0MR1_NaCO"
      }
    },
    {
      "cell_type": "code",
      "source": [
        "import os\n",
        "import numpy as np\n",
        "import tensorflow as tf\n",
        "import pandas as pd\n",
        "import cv2\n",
        "import matplotlib\n",
        "from matplotlib import pyplot\n",
        "from matplotlib import pyplot as plt\n",
        "from tensorflow import keras\n",
        "from keras.models import Sequential\n",
        "from keras.utils.np_utils import to_categorical\n",
        "from keras.layers import Conv2D, Dense, Dropout, Flatten, MaxPooling2D\n",
        "from sklearn.model_selection import train_test_split"
      ],
      "metadata": {
        "execution": {
          "iopub.status.busy": "2022-03-18T03:16:14.168912Z",
          "iopub.execute_input": "2022-03-18T03:16:14.169095Z",
          "iopub.status.idle": "2022-03-18T03:16:19.775059Z",
          "shell.execute_reply.started": "2022-03-18T03:16:14.169072Z",
          "shell.execute_reply": "2022-03-18T03:16:19.77432Z"
        },
        "trusted": true,
        "id": "yCmTBmyGNaCO"
      },
      "execution_count": null,
      "outputs": []
    },
    {
      "cell_type": "code",
      "source": [
        "import os\n",
        "import pandas as pd\n",
        "import numpy as np\n",
        "import cv2\n",
        "\n",
        "from tensorflow import keras\n",
        "from keras.layers import Conv2D, Dense, Dropout, Flatten\n",
        "from keras.models import Sequential\n",
        "from keras.preprocessing.image import ImageDataGenerator\n",
        "from keras.models import Sequential\n",
        "from keras.layers import Conv2D\n",
        "from keras.layers import MaxPooling2D\n",
        "from keras.layers import GlobalMaxPooling2D\n",
        "from keras.layers import GlobalAveragePooling2D\n",
        "from keras.layers import Dense\n",
        "from keras.layers import Flatten\n",
        "from matplotlib import pyplot\n",
        "from keras import datasets\n",
        "from sklearn.model_selection import train_test_split\n",
        "from sklearn.metrics import classification_report\n",
        "from sklearn.metrics import confusion_matrix\n",
        "from sklearn.metrics import recall_score, precision_score\n",
        "import seaborn as sns\n",
        "from keras.layers import Dense, Dropout, Activation, Flatten,BatchNormalization\n",
        "import numpy as np\n",
        "from keras.utils.np_utils import to_categorical\n",
        "import matplotlib.pyplot as plt\n",
        "\n",
        "from keras import backend as K\n",
        "import tensorflow as tf\n",
        "from tensorflow import keras\n",
        "from keras.models import Model\n",
        "from keras.models import model_from_json\n",
        "from keras.layers import Flatten\n",
        "from keras.layers import Dense\n",
        "from keras.layers import Input\n",
        "from keras.layers import Conv2D\n",
        "from keras.layers import MaxPooling2D\n",
        "from keras.layers import GlobalMaxPooling2D\n",
        "from keras.layers import GlobalAveragePooling2D\n",
        "from keras.preprocessing import image\n",
        "from keras.utils import layer_utils\n",
        "from keras.utils.data_utils import get_file\n",
        "from keras.applications.imagenet_utils import decode_predictions\n",
        "from keras.applications.imagenet_utils import preprocess_input\n",
        "from tensorflow.keras import optimizers\n",
        "from tensorflow.keras.models import Sequential\n",
        "from tensorflow.keras import layers\n",
        "from tensorflow.keras.applications import InceptionV3"
      ],
      "metadata": {
        "execution": {
          "iopub.status.busy": "2022-03-18T03:16:19.777706Z",
          "iopub.execute_input": "2022-03-18T03:16:19.778243Z",
          "iopub.status.idle": "2022-03-18T03:16:20.217043Z",
          "shell.execute_reply.started": "2022-03-18T03:16:19.778204Z",
          "shell.execute_reply": "2022-03-18T03:16:20.216377Z"
        },
        "trusted": true,
        "id": "J6BcqKWYNaCP"
      },
      "execution_count": null,
      "outputs": []
    },
    {
      "cell_type": "markdown",
      "source": [
        "### Loading Dataset"
      ],
      "metadata": {
        "id": "PMgdyLO0NaCQ"
      }
    },
    {
      "cell_type": "markdown",
      "source": [],
      "metadata": {
        "id": "VbvAEd1wNaCQ"
      }
    },
    {
      "cell_type": "code",
      "source": [
        "def load_subdata(data):\n",
        "    X1 = []\n",
        "    y1 = []\n",
        "    size = 229\n",
        "    lbl = 0\n",
        "    dic = {}\n",
        "    for folder_name in os.listdir(data):\n",
        "\n",
        "        Label = lbl\n",
        "        dic[folder_name] = Label\n",
        "        count_imag = 0;\n",
        "\n",
        "        for filename in os.listdir(data + '/' + folder_name):\n",
        "            image = tf.keras.preprocessing.image.load_img(data +'/'+ folder_name + '/' + filename,color_mode='rgb', target_size=(size,size))\n",
        "            arr = keras.preprocessing.image.img_to_array(image)\n",
        "            X1.append(np.array([arr]))\n",
        "            y1.append(Label)\n",
        "        lbl +=1\n",
        "\n",
        "    X1 = np.asarray(X1).reshape(len(X1),229,229,3).astype(np.uint8)\n",
        "    y1 = np.asarray(y1).astype(np.uint8)\n",
        "    return X1,y1, dic"
      ],
      "metadata": {
        "execution": {
          "iopub.status.busy": "2022-03-18T03:16:20.218504Z",
          "iopub.execute_input": "2022-03-18T03:16:20.218745Z",
          "iopub.status.idle": "2022-03-18T03:16:20.226976Z",
          "shell.execute_reply.started": "2022-03-18T03:16:20.21871Z",
          "shell.execute_reply": "2022-03-18T03:16:20.226294Z"
        },
        "trusted": true,
        "id": "ZtTcGWW0NaCQ"
      },
      "execution_count": null,
      "outputs": []
    },
    {
      "cell_type": "code",
      "source": [
        "X_train, y_train, label_dic = load_subdata(r'../input/dogbreedclassification/Dog Breed Classification/train')\n",
        "X_test, y_test, test_label_dic = load_subdata(r'../input/dogbreedclassification/Dog Breed Classification/test')\n",
        "X_val, y_val, val_label_dic = load_subdata(r'../input/dogbreedclassification/Dog Breed Classification/val')"
      ],
      "metadata": {
        "execution": {
          "iopub.status.busy": "2022-03-18T03:16:20.228994Z",
          "iopub.execute_input": "2022-03-18T03:16:20.229797Z",
          "iopub.status.idle": "2022-03-18T03:17:31.696385Z",
          "shell.execute_reply.started": "2022-03-18T03:16:20.229755Z",
          "shell.execute_reply": "2022-03-18T03:17:31.695515Z"
        },
        "trusted": true,
        "id": "h_cfDF55NaCQ"
      },
      "execution_count": null,
      "outputs": []
    },
    {
      "cell_type": "code",
      "source": [
        "print(\"Training Images Shape (x train shape) :\", X_train.shape)\n",
        "print(\"Label of training images (y train shape) :\",y_train.shape)\n",
        "\n",
        "print(\"Validation Images Shape (x val shape) :\",X_val.shape)\n",
        "print(\"Label of Validation images (y val shape) :\",y_val.shape)\n",
        "\n",
        "print(\"Test Images Shape (x val shape) :\",X_test.shape)\n",
        "print(\"Label of Test images (y val shape) :\",y_test.shape)"
      ],
      "metadata": {
        "execution": {
          "iopub.status.busy": "2022-03-18T03:17:31.701626Z",
          "iopub.execute_input": "2022-03-18T03:17:31.703858Z",
          "iopub.status.idle": "2022-03-18T03:17:31.71856Z",
          "shell.execute_reply.started": "2022-03-18T03:17:31.703816Z",
          "shell.execute_reply": "2022-03-18T03:17:31.717835Z"
        },
        "trusted": true,
        "id": "WHUju70sNaCR"
      },
      "execution_count": null,
      "outputs": []
    },
    {
      "cell_type": "code",
      "source": [],
      "metadata": {
        "id": "KWfI8KXPNaCR"
      },
      "execution_count": null,
      "outputs": []
    },
    {
      "cell_type": "code",
      "source": [
        "unique, counts = np.unique(y_train, return_counts=True)\n",
        "label_count = dict(zip(unique, counts))"
      ],
      "metadata": {
        "execution": {
          "iopub.status.busy": "2022-03-18T03:17:31.722731Z",
          "iopub.execute_input": "2022-03-18T03:17:31.72491Z",
          "iopub.status.idle": "2022-03-18T03:17:31.734381Z",
          "shell.execute_reply.started": "2022-03-18T03:17:31.72487Z",
          "shell.execute_reply": "2022-03-18T03:17:31.733413Z"
        },
        "trusted": true,
        "id": "ePWY492TNaCR"
      },
      "execution_count": null,
      "outputs": []
    },
    {
      "cell_type": "markdown",
      "source": [
        "### One Hot Encoding"
      ],
      "metadata": {
        "id": "j41s7CtLNaCR"
      }
    },
    {
      "cell_type": "code",
      "source": [
        "y_trainHot = np.uint8(to_categorical(y_train, num_classes = 93))\n",
        "y_testHot = np.uint8(to_categorical(y_test, num_classes = 93))\n",
        "y_valHot = np.uint8(to_categorical(y_val, num_classes = 93))"
      ],
      "metadata": {
        "execution": {
          "iopub.status.busy": "2022-03-18T03:17:31.738833Z",
          "iopub.execute_input": "2022-03-18T03:17:31.740834Z",
          "iopub.status.idle": "2022-03-18T03:17:31.749665Z",
          "shell.execute_reply.started": "2022-03-18T03:17:31.740798Z",
          "shell.execute_reply": "2022-03-18T03:17:31.748726Z"
        },
        "trusted": true,
        "id": "eUj5klF0NaCR"
      },
      "execution_count": null,
      "outputs": []
    },
    {
      "cell_type": "markdown",
      "source": [
        "### Shuffling Dataset"
      ],
      "metadata": {
        "id": "m16cOZZ6NaCS"
      }
    },
    {
      "cell_type": "code",
      "source": [
        "def shuffle(a, b):\n",
        "    shuffled_a = np.empty(a.shape, dtype=np.uint8)\n",
        "    shuffled_b = np.empty(b.shape, dtype=np.uint8)\n",
        "    permutation = np.random.permutation(len(a))\n",
        "    for old_index, new_index in enumerate(permutation):\n",
        "        shuffled_a[new_index] = a[old_index]\n",
        "        shuffled_b[new_index] = b[old_index]\n",
        "    return shuffled_a, shuffled_b"
      ],
      "metadata": {
        "execution": {
          "iopub.status.busy": "2022-03-18T03:17:31.75469Z",
          "iopub.execute_input": "2022-03-18T03:17:31.755871Z",
          "iopub.status.idle": "2022-03-18T03:17:31.765378Z",
          "shell.execute_reply.started": "2022-03-18T03:17:31.755833Z",
          "shell.execute_reply": "2022-03-18T03:17:31.764601Z"
        },
        "trusted": true,
        "id": "UJ2l34MVNaCS"
      },
      "execution_count": null,
      "outputs": []
    },
    {
      "cell_type": "code",
      "source": [
        "X_train_s, y_train_s = shuffle(X_train, y_trainHot)\n",
        "X_test_s, y_test_s = shuffle(X_test, y_testHot)\n",
        "X_val_s, y_val_s = shuffle(X_val, y_valHot)"
      ],
      "metadata": {
        "execution": {
          "iopub.status.busy": "2022-03-18T03:17:31.767277Z",
          "iopub.execute_input": "2022-03-18T03:17:31.767955Z",
          "iopub.status.idle": "2022-03-18T03:17:32.085091Z",
          "shell.execute_reply.started": "2022-03-18T03:17:31.767918Z",
          "shell.execute_reply": "2022-03-18T03:17:32.084249Z"
        },
        "trusted": true,
        "id": "Ulo6mKwtNaCS"
      },
      "execution_count": null,
      "outputs": []
    },
    {
      "cell_type": "code",
      "source": [
        "print(\"One hot encoded labels\")\n",
        "print(y_train_s.shape)\n",
        "print(y_test_s.shape)\n",
        "print(y_val_s.shape)"
      ],
      "metadata": {
        "execution": {
          "iopub.status.busy": "2022-03-18T03:17:32.086782Z",
          "iopub.execute_input": "2022-03-18T03:17:32.087391Z",
          "iopub.status.idle": "2022-03-18T03:17:32.094964Z",
          "shell.execute_reply.started": "2022-03-18T03:17:32.087335Z",
          "shell.execute_reply": "2022-03-18T03:17:32.094038Z"
        },
        "trusted": true,
        "id": "eEU14zElNaCS"
      },
      "execution_count": null,
      "outputs": []
    },
    {
      "cell_type": "code",
      "source": [
        "plt.figure(figsize=(10,10))\n",
        "plt.title('Random Image from Dataset')\n",
        "for i in range(25):\n",
        "    plt.subplot(5,5,i+1)\n",
        "    plt.xticks([])\n",
        "    plt.yticks([])\n",
        "    plt.grid(False)\n",
        "    plt.imshow(X_val_s[i])\n",
        "\n",
        "plt.show()"
      ],
      "metadata": {
        "execution": {
          "iopub.status.busy": "2022-03-18T03:17:32.099744Z",
          "iopub.execute_input": "2022-03-18T03:17:32.100288Z",
          "iopub.status.idle": "2022-03-18T03:17:33.314645Z",
          "shell.execute_reply.started": "2022-03-18T03:17:32.100252Z",
          "shell.execute_reply": "2022-03-18T03:17:33.311439Z"
        },
        "trusted": true,
        "id": "TrtIyROKNaCS"
      },
      "execution_count": null,
      "outputs": []
    },
    {
      "cell_type": "markdown",
      "source": [
        "## Inception Model"
      ],
      "metadata": {
        "id": "7_XrdTK7NaCS"
      }
    },
    {
      "cell_type": "code",
      "source": [
        "def Inception_Net():\n",
        "    base_model =InceptionV3(input_shape = (229, 229, 3), # Shape of our images\n",
        "                                 include_top = False,\n",
        "                                 weights = 'imagenet',pooling='avg',classes=93)\n",
        "    base_model.trainable = True\n",
        "    base_model.layers[0].trainable=False\n",
        "    #pool_layer=GlobalAveragePooling2D()\n",
        "    prediction_layer = Dense(units=93, activation='softmax')\n",
        "    model = Sequential()\n",
        "    model.add(base_model)\n",
        "    model.add(Dropout(0.4))\n",
        "    #model.add(pool_layer)\n",
        "\n",
        "    model.add(Flatten())\n",
        "    model.add(Dropout(0.4))\n",
        "    model.add(Dense(units=1024, activation='relu'))\n",
        "    model.add(prediction_layer)\n",
        "    return model\n"
      ],
      "metadata": {
        "execution": {
          "iopub.status.busy": "2022-03-18T03:17:33.315653Z",
          "iopub.execute_input": "2022-03-18T03:17:33.315866Z",
          "iopub.status.idle": "2022-03-18T03:17:33.324014Z",
          "shell.execute_reply.started": "2022-03-18T03:17:33.315838Z",
          "shell.execute_reply": "2022-03-18T03:17:33.323166Z"
        },
        "trusted": true,
        "id": "FSbs9YnYNaCS"
      },
      "execution_count": null,
      "outputs": []
    },
    {
      "cell_type": "code",
      "source": [
        "incp_model=Inception_Net()"
      ],
      "metadata": {
        "execution": {
          "iopub.status.busy": "2022-03-18T03:17:33.325516Z",
          "iopub.execute_input": "2022-03-18T03:17:33.326064Z",
          "iopub.status.idle": "2022-03-18T03:17:39.467845Z",
          "shell.execute_reply.started": "2022-03-18T03:17:33.326029Z",
          "shell.execute_reply": "2022-03-18T03:17:39.467114Z"
        },
        "trusted": true,
        "id": "hvZKyVaaNaCS"
      },
      "execution_count": null,
      "outputs": []
    },
    {
      "cell_type": "code",
      "source": [
        "incp_model.compile(loss = 'categorical_crossentropy', optimizer = keras.optimizers.Adam(learning_rate=0.0001),\n",
        "              metrics = ['accuracy']) #when the learning rate was set to 0.01, the model showed a poor performance comparated to lr=0.0001\n",
        "incp_model.summary()"
      ],
      "metadata": {
        "execution": {
          "iopub.status.busy": "2022-03-18T03:17:39.469136Z",
          "iopub.execute_input": "2022-03-18T03:17:39.469399Z",
          "iopub.status.idle": "2022-03-18T03:17:39.507761Z",
          "shell.execute_reply.started": "2022-03-18T03:17:39.469348Z",
          "shell.execute_reply": "2022-03-18T03:17:39.507014Z"
        },
        "trusted": true,
        "id": "hJXUK8DkNaCS"
      },
      "execution_count": null,
      "outputs": []
    },
    {
      "cell_type": "code",
      "source": [
        "hist =incp_model.fit(X_train_s, y_train_s, epochs=10,batch_size=128,validation_data=(X_val_s,y_val_s))"
      ],
      "metadata": {
        "execution": {
          "iopub.status.busy": "2022-03-18T03:17:39.508734Z",
          "iopub.execute_input": "2022-03-18T03:17:39.50896Z",
          "iopub.status.idle": "2022-03-18T03:22:11.739071Z",
          "shell.execute_reply.started": "2022-03-18T03:17:39.508927Z",
          "shell.execute_reply": "2022-03-18T03:22:11.738343Z"
        },
        "trusted": true,
        "id": "rQ3dwmmoNaCS"
      },
      "execution_count": null,
      "outputs": []
    },
    {
      "cell_type": "code",
      "source": [
        "def plot_model(history):\n",
        "    fig,(ax1,ax2)=plt.subplots(1,2,figsize=(12,4))\n",
        "    fig.suptitle('Model Accuracy and Loss')\n",
        "\n",
        "    ax1.plot(hist.history['accuracy'])\n",
        "    ax1.plot(hist.history['val_accuracy'])\n",
        "    ax1.title.set_text('Accuracy')\n",
        "    ax1.set_ylabel('Accuracy')\n",
        "    ax1.set_xlabel('Epoch')\n",
        "    ax1.legend(['Train','Valid'],loc=4)\n",
        "\n",
        "    ax2.plot(hist.history['loss'])\n",
        "    ax2.plot(hist.history['val_loss'])\n",
        "    ax2.title.set_text('Loss')\n",
        "    ax2.set_ylabel('Loss')\n",
        "    ax2.set_xlabel('Epoch')\n",
        "    ax2.legend(['Train','Valid'],loc=1)\n",
        "\n",
        "    fig.show()\n",
        "\n",
        "plot_model(hist)"
      ],
      "metadata": {
        "execution": {
          "iopub.status.busy": "2022-03-18T03:22:11.743334Z",
          "iopub.execute_input": "2022-03-18T03:22:11.743567Z",
          "iopub.status.idle": "2022-03-18T03:22:12.077373Z",
          "shell.execute_reply.started": "2022-03-18T03:22:11.74354Z",
          "shell.execute_reply": "2022-03-18T03:22:12.076716Z"
        },
        "trusted": true,
        "id": "ihua1FxNNaCS"
      },
      "execution_count": null,
      "outputs": []
    },
    {
      "cell_type": "code",
      "source": [
        "def plot_cf_mat(cf_matrix):\n",
        "\n",
        "    classes = list(label_dic.keys())\n",
        "    plt.rcParams[\"figure.figsize\"] = (10,7)\n",
        "    ax = plt.axes()\n",
        "    sns.heatmap(cf_matrix, annot=True,\n",
        "              annot_kws={\"size\": 10},\n",
        "              xticklabels=classes,\n",
        "              yticklabels=classes, ax = ax,fmt=\"d\")\n",
        "    ax.set_title('Confusion matrix')\n",
        "    ax.set_xlabel(\"Predicted\")\n",
        "    ax.set_ylabel(\"Actual\")\n",
        "    plt.show()"
      ],
      "metadata": {
        "execution": {
          "iopub.status.busy": "2022-03-18T03:22:12.078539Z",
          "iopub.execute_input": "2022-03-18T03:22:12.079091Z",
          "iopub.status.idle": "2022-03-18T03:22:12.085452Z",
          "shell.execute_reply.started": "2022-03-18T03:22:12.079037Z",
          "shell.execute_reply": "2022-03-18T03:22:12.08472Z"
        },
        "trusted": true,
        "id": "9IjvTEf2NaCS"
      },
      "execution_count": null,
      "outputs": []
    },
    {
      "cell_type": "code",
      "source": [
        "def model_Evaluate(model):\n",
        "\n",
        "    # Predict values for Test dataset\n",
        "    y_pred = model.predict(X_test_s)\n",
        "    y_test = y_test_s\n",
        "    Y_pred = np.argmax(y_pred, axis=1)\n",
        "    Y_Test = np.argmax(y_test, axis=1)\n",
        "\n",
        "    class_names = list(label_dic.keys())\n",
        "    print(\"Classification Report:\")\n",
        "\n",
        "    # Print the evaluation metrics for the dataset.\n",
        "    print(classification_report(Y_Test, Y_pred, target_names=class_names))\n",
        "\n",
        "    # Compute and plot the Confusion matrix\n",
        "    cf_matrix = confusion_matrix(Y_Test, Y_pred)\n",
        "\n",
        "    accuracy = recall_score(Y_Test, Y_pred, average=None)\n",
        "    precision=precision_score(Y_Test,Y_pred,average=None)\n",
        "\n",
        "    #class_names = class_names\n",
        "    class_names = list(label_dic.keys())\n",
        "\n",
        "    print(\"Confusion Matrix:\")\n",
        "\n",
        "    print(cf_matrix)\n",
        "    plot_cf_mat(cf_matrix)\n",
        "    ## Display the visualization of the Confusion Matrix.\n",
        "    plt.show()\n",
        "\n",
        "    print(\"Accuracy for each class: \")\n",
        "\n",
        "    for i in range(len(accuracy)):\n",
        "        print(f\"{class_names[i]}:  {format(accuracy[i]*100, '.2f')}%\")\n",
        "    return accuracy,precision"
      ],
      "metadata": {
        "execution": {
          "iopub.status.busy": "2022-03-18T03:22:12.086713Z",
          "iopub.execute_input": "2022-03-18T03:22:12.086966Z",
          "iopub.status.idle": "2022-03-18T03:22:12.102001Z",
          "shell.execute_reply.started": "2022-03-18T03:22:12.086931Z",
          "shell.execute_reply": "2022-03-18T03:22:12.101244Z"
        },
        "trusted": true,
        "id": "UXZFb4dLNaCS"
      },
      "execution_count": null,
      "outputs": []
    },
    {
      "cell_type": "code",
      "source": [
        "accuracy_incp, precision_incp = model_Evaluate(incp_model)"
      ],
      "metadata": {
        "execution": {
          "iopub.status.busy": "2022-03-18T03:22:12.103013Z",
          "iopub.execute_input": "2022-03-18T03:22:12.103656Z",
          "iopub.status.idle": "2022-03-18T03:22:39.457682Z",
          "shell.execute_reply.started": "2022-03-18T03:22:12.103618Z",
          "shell.execute_reply": "2022-03-18T03:22:39.457059Z"
        },
        "trusted": true,
        "id": "HWCwmLj0NaCT"
      },
      "execution_count": null,
      "outputs": []
    },
    {
      "cell_type": "markdown",
      "source": [
        "## Saving Model"
      ],
      "metadata": {
        "id": "pTb3NgMRNaCT"
      }
    },
    {
      "cell_type": "code",
      "source": [
        "Inception_Model = incp_model.to_json()\n",
        "with open(\"incp_model.json\", \"w\") as json_file:\n",
        "    json_file.write(Inception_Model)\n",
        "# serialize weights to HDF5\n",
        "incp_model.save_weights(\"incp_model.h5\")\n",
        "print(\"Saved model to disk\")"
      ],
      "metadata": {
        "execution": {
          "iopub.status.busy": "2022-03-18T03:22:39.458889Z",
          "iopub.execute_input": "2022-03-18T03:22:39.4593Z",
          "iopub.status.idle": "2022-03-18T03:22:39.919425Z",
          "shell.execute_reply.started": "2022-03-18T03:22:39.45926Z",
          "shell.execute_reply": "2022-03-18T03:22:39.918645Z"
        },
        "trusted": true,
        "id": "q1uSq6VANaCT"
      },
      "execution_count": null,
      "outputs": []
    },
    {
      "cell_type": "markdown",
      "source": [
        "## Load Model"
      ],
      "metadata": {
        "id": "K9bCTHDPNaCT"
      }
    },
    {
      "cell_type": "code",
      "source": [
        "from keras.models import model_from_json\n",
        "json_file = open('incp_model.json', 'r')\n",
        "Inception_Model_json = json_file.read()\n",
        "json_file.close()\n",
        "Inception_Model = model_from_json(Inception_Model_json)\n",
        "# load weights into new model\n",
        "Inception_Model.load_weights(\"incp_model.h5\")\n",
        "print(\"Loaded model from disk\")"
      ],
      "metadata": {
        "execution": {
          "iopub.status.busy": "2022-03-18T03:22:39.920865Z",
          "iopub.execute_input": "2022-03-18T03:22:39.921116Z",
          "iopub.status.idle": "2022-03-18T03:22:42.183819Z",
          "shell.execute_reply.started": "2022-03-18T03:22:39.92107Z",
          "shell.execute_reply": "2022-03-18T03:22:42.183002Z"
        },
        "trusted": true,
        "id": "HGBMtBUmNaCT"
      },
      "execution_count": null,
      "outputs": []
    },
    {
      "cell_type": "code",
      "source": [
        "print(\"Printing layers of Model :\")\n",
        "for layer in Inception_Model.layers:\n",
        "    print(layer)\n",
        "\n",
        "print()\n",
        "print(\"Feature extraction from the model:\")\n",
        "feature_layer = Inception_Model.get_layer('inception_v3')\n",
        "print(feature_layer)"
      ],
      "metadata": {
        "execution": {
          "iopub.status.busy": "2022-03-18T03:22:42.185468Z",
          "iopub.execute_input": "2022-03-18T03:22:42.185966Z",
          "iopub.status.idle": "2022-03-18T03:22:42.193658Z",
          "shell.execute_reply.started": "2022-03-18T03:22:42.185927Z",
          "shell.execute_reply": "2022-03-18T03:22:42.192896Z"
        },
        "trusted": true,
        "id": "IwYDme5hNaCT"
      },
      "execution_count": null,
      "outputs": []
    },
    {
      "cell_type": "code",
      "source": [
        "incep_feature_model = keras.Model(inputs = feature_layer.inputs, outputs = feature_layer.outputs)\n",
        "\n",
        "\n",
        "# Showing Inception Model Architecture\n",
        "# print(\"Inception Model Architecture\")\n",
        "# keras.utils.plot_model(feature_model,'Inception.png',show_shapes=True, show_layer_names=False, rankdir='TB', expand_nested=True, dpi=75)\n",
        "# rankdir='TB' -> top to bottom\n",
        "#feature_model.summary()"
      ],
      "metadata": {
        "execution": {
          "iopub.status.busy": "2022-03-18T03:22:42.194769Z",
          "iopub.execute_input": "2022-03-18T03:22:42.195403Z",
          "iopub.status.idle": "2022-03-18T03:22:42.219693Z",
          "shell.execute_reply.started": "2022-03-18T03:22:42.19535Z",
          "shell.execute_reply": "2022-03-18T03:22:42.219061Z"
        },
        "trusted": true,
        "id": "SPBNFwA_NaCT"
      },
      "execution_count": null,
      "outputs": []
    },
    {
      "cell_type": "code",
      "source": [
        "print(\"Inception Model Architecture\")\n",
        "keras.utils.plot_model(incep_feature_model,'Inception_Model.png',show_shapes=True, show_layer_names=False, rankdir='TB', expand_nested=True, dpi=75)"
      ],
      "metadata": {
        "execution": {
          "iopub.status.busy": "2022-03-18T03:22:42.220696Z",
          "iopub.execute_input": "2022-03-18T03:22:42.220945Z",
          "iopub.status.idle": "2022-03-18T03:22:46.76371Z",
          "shell.execute_reply.started": "2022-03-18T03:22:42.220909Z",
          "shell.execute_reply": "2022-03-18T03:22:46.761268Z"
        },
        "trusted": true,
        "id": "MN0ZSAb_NaCT"
      },
      "execution_count": null,
      "outputs": []
    },
    {
      "cell_type": "markdown",
      "source": [
        "## ML classifiers"
      ],
      "metadata": {
        "id": "_oTbCEFgNaCT"
      }
    },
    {
      "cell_type": "code",
      "source": [
        "from sklearn.naive_bayes import GaussianNB\n",
        "from sklearn.linear_model import LogisticRegression\n",
        "from sklearn.tree import DecisionTreeClassifier\n",
        "from lightgbm import LGBMClassifier\n",
        "from sklearn.neighbors import KNeighborsClassifier\n",
        "from sklearn.ensemble import RandomForestClassifier\n",
        "from sklearn.svm import SVC\n",
        "from sklearn.ensemble import GradientBoostingClassifier\n",
        "from sklearn.metrics import accuracy_score"
      ],
      "metadata": {
        "execution": {
          "iopub.status.busy": "2022-03-18T03:22:46.76576Z",
          "iopub.execute_input": "2022-03-18T03:22:46.766464Z",
          "iopub.status.idle": "2022-03-18T03:22:48.714835Z",
          "shell.execute_reply.started": "2022-03-18T03:22:46.766422Z",
          "shell.execute_reply": "2022-03-18T03:22:48.714125Z"
        },
        "trusted": true,
        "id": "xzMwA48gNaCX"
      },
      "execution_count": null,
      "outputs": []
    },
    {
      "cell_type": "code",
      "source": [
        "Y_Train = np.argmax(y_train_s,axis=1)\n",
        "Y_Test = np.argmax(y_test_s,axis=1)"
      ],
      "metadata": {
        "execution": {
          "iopub.status.busy": "2022-03-18T03:22:48.716254Z",
          "iopub.execute_input": "2022-03-18T03:22:48.716512Z",
          "iopub.status.idle": "2022-03-18T03:22:48.722088Z",
          "shell.execute_reply.started": "2022-03-18T03:22:48.716475Z",
          "shell.execute_reply": "2022-03-18T03:22:48.721299Z"
        },
        "trusted": true,
        "id": "rhm8NCg6NaCX"
      },
      "execution_count": null,
      "outputs": []
    },
    {
      "cell_type": "code",
      "source": [
        "train_features = incep_feature_model.predict(X_train_s)\n",
        "test_features = incep_feature_model.predict(X_test_s)\n",
        "\n",
        "print(\"Training data size:\", train_features.shape)\n",
        "print(\"Test data size:\", test_features.shape)"
      ],
      "metadata": {
        "execution": {
          "iopub.status.busy": "2022-03-18T03:22:48.723575Z",
          "iopub.execute_input": "2022-03-18T03:22:48.723834Z",
          "iopub.status.idle": "2022-03-18T03:23:03.224841Z",
          "shell.execute_reply.started": "2022-03-18T03:22:48.7238Z",
          "shell.execute_reply": "2022-03-18T03:23:03.223347Z"
        },
        "trusted": true,
        "id": "lzVzrG5JNaCX"
      },
      "execution_count": null,
      "outputs": []
    },
    {
      "cell_type": "code",
      "source": [
        "def classifier(classifier_):\n",
        "    class_names = list(label_dic.keys())\n",
        "    print(f'Classifier: {str(classifier_)}')\n",
        "    classifier_.fit(train_features, Y_Train)\n",
        "    Y_pred = classifier_.predict(test_features)\n",
        "    acc = accuracy_score(Y_Test,Y_pred)\n",
        "    print(f\"Accuracy: {acc}\")\n",
        "    print(classification_report(Y_Test,Y_pred))\n",
        "    accuracy = recall_score(Y_Test, Y_pred, average=None)\n",
        "    for i in range(len(accuracy)):\n",
        "        print(f\"{class_names[i]}:  {format(accuracy[i]*100, '.2f')}%\")\n",
        "    # Compute and plot the Confusion matrix\n",
        "    cf_matrix = confusion_matrix(Y_Test, Y_pred)\n",
        "    print(cf_matrix)\n",
        "    plot_cf_mat(cf_matrix)\n",
        "    ## Display the visualization of the Confusion Matrix.\n",
        "    plt.show()"
      ],
      "metadata": {
        "execution": {
          "iopub.status.busy": "2022-03-18T03:30:14.853487Z",
          "iopub.execute_input": "2022-03-18T03:30:14.854029Z",
          "iopub.status.idle": "2022-03-18T03:30:14.860668Z",
          "shell.execute_reply.started": "2022-03-18T03:30:14.85399Z",
          "shell.execute_reply": "2022-03-18T03:30:14.859842Z"
        },
        "trusted": true,
        "id": "_Rs2eLrlNaCX"
      },
      "execution_count": null,
      "outputs": []
    },
    {
      "cell_type": "code",
      "source": [
        "classifier(DecisionTreeClassifier())"
      ],
      "metadata": {
        "execution": {
          "iopub.status.busy": "2022-03-18T03:30:20.075455Z",
          "iopub.execute_input": "2022-03-18T03:30:20.075719Z",
          "iopub.status.idle": "2022-03-18T03:32:26.826896Z",
          "shell.execute_reply.started": "2022-03-18T03:30:20.075691Z",
          "shell.execute_reply": "2022-03-18T03:32:26.826213Z"
        },
        "trusted": true,
        "id": "ojBx6jiLNaCX"
      },
      "execution_count": null,
      "outputs": []
    },
    {
      "cell_type": "code",
      "source": [
        "classifier(RandomForestClassifier())"
      ],
      "metadata": {
        "execution": {
          "iopub.status.busy": "2022-03-15T14:27:32.937693Z",
          "iopub.execute_input": "2022-03-15T14:27:32.937965Z",
          "iopub.status.idle": "2022-03-15T14:29:10.347096Z",
          "shell.execute_reply.started": "2022-03-15T14:27:32.93793Z",
          "shell.execute_reply": "2022-03-15T14:29:10.346351Z"
        },
        "trusted": true,
        "id": "dCZ0Jrr3NaCX"
      },
      "execution_count": null,
      "outputs": []
    },
    {
      "cell_type": "code",
      "source": [
        "# classifier(GradientBoostingClassifier())"
      ],
      "metadata": {
        "execution": {
          "iopub.status.busy": "2022-03-15T14:29:10.348246Z",
          "iopub.execute_input": "2022-03-15T14:29:10.348831Z",
          "iopub.status.idle": "2022-03-15T14:51:04.823621Z",
          "shell.execute_reply.started": "2022-03-15T14:29:10.348791Z",
          "shell.execute_reply": "2022-03-15T14:51:04.822142Z"
        },
        "trusted": true,
        "id": "ppqKHsJcNaCX"
      },
      "execution_count": null,
      "outputs": []
    },
    {
      "cell_type": "code",
      "source": [
        "classifier(SVC(kernel='linear'))"
      ],
      "metadata": {
        "execution": {
          "iopub.status.busy": "2022-03-15T14:51:10.481045Z",
          "iopub.execute_input": "2022-03-15T14:51:10.481648Z",
          "iopub.status.idle": "2022-03-15T14:51:18.716587Z",
          "shell.execute_reply.started": "2022-03-15T14:51:10.481614Z",
          "shell.execute_reply": "2022-03-15T14:51:18.715638Z"
        },
        "trusted": true,
        "id": "vCFF_8PbNaCX"
      },
      "execution_count": null,
      "outputs": []
    },
    {
      "cell_type": "code",
      "source": [
        "classifier(GaussianNB())"
      ],
      "metadata": {
        "execution": {
          "iopub.status.busy": "2022-03-15T14:51:04.826715Z",
          "iopub.status.idle": "2022-03-15T14:51:04.827668Z",
          "shell.execute_reply.started": "2022-03-15T14:51:04.827422Z",
          "shell.execute_reply": "2022-03-15T14:51:04.827448Z"
        },
        "trusted": true,
        "id": "1ajOLZ61NaCY"
      },
      "execution_count": null,
      "outputs": []
    },
    {
      "cell_type": "code",
      "source": [
        "classifier(KNeighborsClassifier())"
      ],
      "metadata": {
        "execution": {
          "iopub.status.busy": "2022-03-15T14:51:04.828995Z",
          "iopub.status.idle": "2022-03-15T14:51:04.829407Z",
          "shell.execute_reply.started": "2022-03-15T14:51:04.829189Z",
          "shell.execute_reply": "2022-03-15T14:51:04.829211Z"
        },
        "trusted": true,
        "id": "DaiQNpfpNaCY"
      },
      "execution_count": null,
      "outputs": []
    },
    {
      "cell_type": "code",
      "source": [
        "#classifier(LGBMClassifier())"
      ],
      "metadata": {
        "id": "-Kx7tmQ_NaCY"
      },
      "execution_count": null,
      "outputs": []
    }
  ]
}