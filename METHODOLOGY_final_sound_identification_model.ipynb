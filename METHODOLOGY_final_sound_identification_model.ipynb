{
  "cells": [
    {
      "cell_type": "markdown",
      "metadata": {
        "id": "view-in-github",
        "colab_type": "text"
      },
      "source": [
        "<a href=\"https://colab.research.google.com/github/radhakrishnan-omotec/arwan-iris-dog-repo/blob/main/METHODOLOGY_final_sound_identification_model.ipynb\" target=\"_parent\"><img src=\"https://colab.research.google.com/assets/colab-badge.svg\" alt=\"Open In Colab\"/></a>"
      ]
    },
    {
      "cell_type": "markdown",
      "source": [
        "#Project Dataset Setup"
      ],
      "metadata": {
        "id": "ExI56bbexeaD"
      }
    },
    {
      "cell_type": "code",
      "source": [
        "!git clone https://github.com/radhakrishnan-omotec/sound-repo.git"
      ],
      "metadata": {
        "colab": {
          "base_uri": "https://localhost:8080/"
        },
        "id": "3-rc5vOwxhYD",
        "outputId": "5c01ba66-383c-4478-db95-3cf2af0e2067"
      },
      "execution_count": null,
      "outputs": [
        {
          "output_type": "stream",
          "name": "stdout",
          "text": [
            "Cloning into 'sound-repo'...\n",
            "remote: Enumerating objects: 3909, done.\u001b[K\n",
            "remote: Total 3909 (delta 0), reused 0 (delta 0), pack-reused 3909 (from 1)\u001b[K\n",
            "Receiving objects: 100% (3909/3909), 2.67 GiB | 28.22 MiB/s, done.\n",
            "Resolving deltas: 100% (11/11), done.\n",
            "Updating files: 100% (3767/3767), done.\n"
          ]
        }
      ]
    },
    {
      "cell_type": "code",
      "source": [
        "import pandas as pd\n",
        "import numpy as np\n",
        "import os, librosa\n",
        "from tqdm import tqdm\n",
        "from sklearn.model_selection import train_test_split\n",
        "from sklearn.preprocessing import LabelEncoder"
      ],
      "metadata": {
        "id": "NSSIvK7CymJ5"
      },
      "execution_count": null,
      "outputs": []
    },
    {
      "cell_type": "code",
      "source": [
        "# Visualization\n",
        "import IPython.display as ipd\n",
        "import matplotlib.pyplot as plt\n",
        "import seaborn as sns\n",
        "\n",
        "# Model\n",
        "from tensorflow import keras\n",
        "from keras.utils import to_categorical\n",
        "from keras import layers, Sequential\n",
        "from keras.callbacks import EarlyStopping, ReduceLROnPlateau\n",
        "\n",
        "# Metrics\n",
        "from sklearn.metrics import confusion_matrix"
      ],
      "metadata": {
        "id": "4Yb__gR_y2ZJ"
      },
      "execution_count": null,
      "outputs": []
    },
    {
      "cell_type": "code",
      "execution_count": null,
      "metadata": {
        "id": "TjiuwIwKxO5O"
      },
      "outputs": [],
      "source": [
        "import pandas as pd\n",
        "import numpy as np\n",
        "import os, librosa\n",
        "from tqdm import tqdm\n",
        "from sklearn.model_selection import train_test_split\n",
        "from sklearn.preprocessing import LabelEncoder\n",
        "\n",
        "# Visualization\n",
        "import IPython.display as ipd\n",
        "import matplotlib.pyplot as plt\n",
        "import seaborn as sns\n",
        "\n",
        "# Model\n",
        "from tensorflow import keras\n",
        "from keras.utils import to_categorical\n",
        "from keras import layers, Sequential\n",
        "from keras.callbacks import EarlyStopping, ReduceLROnPlateau\n",
        "\n",
        "# Metrics\n",
        "from sklearn.metrics import confusion_matrix\n",
        "\n",
        "# Suppressing warnings\n",
        "from warnings import filterwarnings\n",
        "filterwarnings('ignore')"
      ]
    },
    {
      "cell_type": "code",
      "execution_count": null,
      "metadata": {
        "colab": {
          "base_uri": "https://localhost:8080/",
          "height": 206
        },
        "id": "T_RCDuVgxO5Q",
        "outputId": "ed0007ec-8d7d-4f80-85db-ac3f4e5913e6"
      },
      "outputs": [
        {
          "output_type": "execute_result",
          "data": {
            "text/plain": [
              "      slice_file_name    fsID  start        end  salience  fold  classID  \\\n",
              "0    100032-3-0-0.wav  100032    0.0   0.317551         1     5        3   \n",
              "1  100263-2-0-117.wav  100263   58.5  62.500000         1     5        2   \n",
              "2  100263-2-0-121.wav  100263   60.5  64.500000         1     5        2   \n",
              "3  100263-2-0-126.wav  100263   63.0  67.000000         1     5        2   \n",
              "4  100263-2-0-137.wav  100263   68.5  72.500000         1     5        2   \n",
              "\n",
              "              class  \n",
              "0          dog_bark  \n",
              "1  children_playing  \n",
              "2  children_playing  \n",
              "3  children_playing  \n",
              "4  children_playing  "
            ],
            "text/html": [
              "\n",
              "  <div id=\"df-7cdcc1ff-29f9-4839-85c8-bc8f4cf76c75\" class=\"colab-df-container\">\n",
              "    <div>\n",
              "<style scoped>\n",
              "    .dataframe tbody tr th:only-of-type {\n",
              "        vertical-align: middle;\n",
              "    }\n",
              "\n",
              "    .dataframe tbody tr th {\n",
              "        vertical-align: top;\n",
              "    }\n",
              "\n",
              "    .dataframe thead th {\n",
              "        text-align: right;\n",
              "    }\n",
              "</style>\n",
              "<table border=\"1\" class=\"dataframe\">\n",
              "  <thead>\n",
              "    <tr style=\"text-align: right;\">\n",
              "      <th></th>\n",
              "      <th>slice_file_name</th>\n",
              "      <th>fsID</th>\n",
              "      <th>start</th>\n",
              "      <th>end</th>\n",
              "      <th>salience</th>\n",
              "      <th>fold</th>\n",
              "      <th>classID</th>\n",
              "      <th>class</th>\n",
              "    </tr>\n",
              "  </thead>\n",
              "  <tbody>\n",
              "    <tr>\n",
              "      <th>0</th>\n",
              "      <td>100032-3-0-0.wav</td>\n",
              "      <td>100032</td>\n",
              "      <td>0.0</td>\n",
              "      <td>0.317551</td>\n",
              "      <td>1</td>\n",
              "      <td>5</td>\n",
              "      <td>3</td>\n",
              "      <td>dog_bark</td>\n",
              "    </tr>\n",
              "    <tr>\n",
              "      <th>1</th>\n",
              "      <td>100263-2-0-117.wav</td>\n",
              "      <td>100263</td>\n",
              "      <td>58.5</td>\n",
              "      <td>62.500000</td>\n",
              "      <td>1</td>\n",
              "      <td>5</td>\n",
              "      <td>2</td>\n",
              "      <td>children_playing</td>\n",
              "    </tr>\n",
              "    <tr>\n",
              "      <th>2</th>\n",
              "      <td>100263-2-0-121.wav</td>\n",
              "      <td>100263</td>\n",
              "      <td>60.5</td>\n",
              "      <td>64.500000</td>\n",
              "      <td>1</td>\n",
              "      <td>5</td>\n",
              "      <td>2</td>\n",
              "      <td>children_playing</td>\n",
              "    </tr>\n",
              "    <tr>\n",
              "      <th>3</th>\n",
              "      <td>100263-2-0-126.wav</td>\n",
              "      <td>100263</td>\n",
              "      <td>63.0</td>\n",
              "      <td>67.000000</td>\n",
              "      <td>1</td>\n",
              "      <td>5</td>\n",
              "      <td>2</td>\n",
              "      <td>children_playing</td>\n",
              "    </tr>\n",
              "    <tr>\n",
              "      <th>4</th>\n",
              "      <td>100263-2-0-137.wav</td>\n",
              "      <td>100263</td>\n",
              "      <td>68.5</td>\n",
              "      <td>72.500000</td>\n",
              "      <td>1</td>\n",
              "      <td>5</td>\n",
              "      <td>2</td>\n",
              "      <td>children_playing</td>\n",
              "    </tr>\n",
              "  </tbody>\n",
              "</table>\n",
              "</div>\n",
              "    <div class=\"colab-df-buttons\">\n",
              "\n",
              "  <div class=\"colab-df-container\">\n",
              "    <button class=\"colab-df-convert\" onclick=\"convertToInteractive('df-7cdcc1ff-29f9-4839-85c8-bc8f4cf76c75')\"\n",
              "            title=\"Convert this dataframe to an interactive table.\"\n",
              "            style=\"display:none;\">\n",
              "\n",
              "  <svg xmlns=\"http://www.w3.org/2000/svg\" height=\"24px\" viewBox=\"0 -960 960 960\">\n",
              "    <path d=\"M120-120v-720h720v720H120Zm60-500h600v-160H180v160Zm220 220h160v-160H400v160Zm0 220h160v-160H400v160ZM180-400h160v-160H180v160Zm440 0h160v-160H620v160ZM180-180h160v-160H180v160Zm440 0h160v-160H620v160Z\"/>\n",
              "  </svg>\n",
              "    </button>\n",
              "\n",
              "  <style>\n",
              "    .colab-df-container {\n",
              "      display:flex;\n",
              "      gap: 12px;\n",
              "    }\n",
              "\n",
              "    .colab-df-convert {\n",
              "      background-color: #E8F0FE;\n",
              "      border: none;\n",
              "      border-radius: 50%;\n",
              "      cursor: pointer;\n",
              "      display: none;\n",
              "      fill: #1967D2;\n",
              "      height: 32px;\n",
              "      padding: 0 0 0 0;\n",
              "      width: 32px;\n",
              "    }\n",
              "\n",
              "    .colab-df-convert:hover {\n",
              "      background-color: #E2EBFA;\n",
              "      box-shadow: 0px 1px 2px rgba(60, 64, 67, 0.3), 0px 1px 3px 1px rgba(60, 64, 67, 0.15);\n",
              "      fill: #174EA6;\n",
              "    }\n",
              "\n",
              "    .colab-df-buttons div {\n",
              "      margin-bottom: 4px;\n",
              "    }\n",
              "\n",
              "    [theme=dark] .colab-df-convert {\n",
              "      background-color: #3B4455;\n",
              "      fill: #D2E3FC;\n",
              "    }\n",
              "\n",
              "    [theme=dark] .colab-df-convert:hover {\n",
              "      background-color: #434B5C;\n",
              "      box-shadow: 0px 1px 3px 1px rgba(0, 0, 0, 0.15);\n",
              "      filter: drop-shadow(0px 1px 2px rgba(0, 0, 0, 0.3));\n",
              "      fill: #FFFFFF;\n",
              "    }\n",
              "  </style>\n",
              "\n",
              "    <script>\n",
              "      const buttonEl =\n",
              "        document.querySelector('#df-7cdcc1ff-29f9-4839-85c8-bc8f4cf76c75 button.colab-df-convert');\n",
              "      buttonEl.style.display =\n",
              "        google.colab.kernel.accessAllowed ? 'block' : 'none';\n",
              "\n",
              "      async function convertToInteractive(key) {\n",
              "        const element = document.querySelector('#df-7cdcc1ff-29f9-4839-85c8-bc8f4cf76c75');\n",
              "        const dataTable =\n",
              "          await google.colab.kernel.invokeFunction('convertToInteractive',\n",
              "                                                    [key], {});\n",
              "        if (!dataTable) return;\n",
              "\n",
              "        const docLinkHtml = 'Like what you see? Visit the ' +\n",
              "          '<a target=\"_blank\" href=https://colab.research.google.com/notebooks/data_table.ipynb>data table notebook</a>'\n",
              "          + ' to learn more about interactive tables.';\n",
              "        element.innerHTML = '';\n",
              "        dataTable['output_type'] = 'display_data';\n",
              "        await google.colab.output.renderOutput(dataTable, element);\n",
              "        const docLink = document.createElement('div');\n",
              "        docLink.innerHTML = docLinkHtml;\n",
              "        element.appendChild(docLink);\n",
              "      }\n",
              "    </script>\n",
              "  </div>\n",
              "\n",
              "\n",
              "<div id=\"df-5754d179-6a51-4afc-bd4f-30a428073f91\">\n",
              "  <button class=\"colab-df-quickchart\" onclick=\"quickchart('df-5754d179-6a51-4afc-bd4f-30a428073f91')\"\n",
              "            title=\"Suggest charts\"\n",
              "            style=\"display:none;\">\n",
              "\n",
              "<svg xmlns=\"http://www.w3.org/2000/svg\" height=\"24px\"viewBox=\"0 0 24 24\"\n",
              "     width=\"24px\">\n",
              "    <g>\n",
              "        <path d=\"M19 3H5c-1.1 0-2 .9-2 2v14c0 1.1.9 2 2 2h14c1.1 0 2-.9 2-2V5c0-1.1-.9-2-2-2zM9 17H7v-7h2v7zm4 0h-2V7h2v10zm4 0h-2v-4h2v4z\"/>\n",
              "    </g>\n",
              "</svg>\n",
              "  </button>\n",
              "\n",
              "<style>\n",
              "  .colab-df-quickchart {\n",
              "      --bg-color: #E8F0FE;\n",
              "      --fill-color: #1967D2;\n",
              "      --hover-bg-color: #E2EBFA;\n",
              "      --hover-fill-color: #174EA6;\n",
              "      --disabled-fill-color: #AAA;\n",
              "      --disabled-bg-color: #DDD;\n",
              "  }\n",
              "\n",
              "  [theme=dark] .colab-df-quickchart {\n",
              "      --bg-color: #3B4455;\n",
              "      --fill-color: #D2E3FC;\n",
              "      --hover-bg-color: #434B5C;\n",
              "      --hover-fill-color: #FFFFFF;\n",
              "      --disabled-bg-color: #3B4455;\n",
              "      --disabled-fill-color: #666;\n",
              "  }\n",
              "\n",
              "  .colab-df-quickchart {\n",
              "    background-color: var(--bg-color);\n",
              "    border: none;\n",
              "    border-radius: 50%;\n",
              "    cursor: pointer;\n",
              "    display: none;\n",
              "    fill: var(--fill-color);\n",
              "    height: 32px;\n",
              "    padding: 0;\n",
              "    width: 32px;\n",
              "  }\n",
              "\n",
              "  .colab-df-quickchart:hover {\n",
              "    background-color: var(--hover-bg-color);\n",
              "    box-shadow: 0 1px 2px rgba(60, 64, 67, 0.3), 0 1px 3px 1px rgba(60, 64, 67, 0.15);\n",
              "    fill: var(--button-hover-fill-color);\n",
              "  }\n",
              "\n",
              "  .colab-df-quickchart-complete:disabled,\n",
              "  .colab-df-quickchart-complete:disabled:hover {\n",
              "    background-color: var(--disabled-bg-color);\n",
              "    fill: var(--disabled-fill-color);\n",
              "    box-shadow: none;\n",
              "  }\n",
              "\n",
              "  .colab-df-spinner {\n",
              "    border: 2px solid var(--fill-color);\n",
              "    border-color: transparent;\n",
              "    border-bottom-color: var(--fill-color);\n",
              "    animation:\n",
              "      spin 1s steps(1) infinite;\n",
              "  }\n",
              "\n",
              "  @keyframes spin {\n",
              "    0% {\n",
              "      border-color: transparent;\n",
              "      border-bottom-color: var(--fill-color);\n",
              "      border-left-color: var(--fill-color);\n",
              "    }\n",
              "    20% {\n",
              "      border-color: transparent;\n",
              "      border-left-color: var(--fill-color);\n",
              "      border-top-color: var(--fill-color);\n",
              "    }\n",
              "    30% {\n",
              "      border-color: transparent;\n",
              "      border-left-color: var(--fill-color);\n",
              "      border-top-color: var(--fill-color);\n",
              "      border-right-color: var(--fill-color);\n",
              "    }\n",
              "    40% {\n",
              "      border-color: transparent;\n",
              "      border-right-color: var(--fill-color);\n",
              "      border-top-color: var(--fill-color);\n",
              "    }\n",
              "    60% {\n",
              "      border-color: transparent;\n",
              "      border-right-color: var(--fill-color);\n",
              "    }\n",
              "    80% {\n",
              "      border-color: transparent;\n",
              "      border-right-color: var(--fill-color);\n",
              "      border-bottom-color: var(--fill-color);\n",
              "    }\n",
              "    90% {\n",
              "      border-color: transparent;\n",
              "      border-bottom-color: var(--fill-color);\n",
              "    }\n",
              "  }\n",
              "</style>\n",
              "\n",
              "  <script>\n",
              "    async function quickchart(key) {\n",
              "      const quickchartButtonEl =\n",
              "        document.querySelector('#' + key + ' button');\n",
              "      quickchartButtonEl.disabled = true;  // To prevent multiple clicks.\n",
              "      quickchartButtonEl.classList.add('colab-df-spinner');\n",
              "      try {\n",
              "        const charts = await google.colab.kernel.invokeFunction(\n",
              "            'suggestCharts', [key], {});\n",
              "      } catch (error) {\n",
              "        console.error('Error during call to suggestCharts:', error);\n",
              "      }\n",
              "      quickchartButtonEl.classList.remove('colab-df-spinner');\n",
              "      quickchartButtonEl.classList.add('colab-df-quickchart-complete');\n",
              "    }\n",
              "    (() => {\n",
              "      let quickchartButtonEl =\n",
              "        document.querySelector('#df-5754d179-6a51-4afc-bd4f-30a428073f91 button');\n",
              "      quickchartButtonEl.style.display =\n",
              "        google.colab.kernel.accessAllowed ? 'block' : 'none';\n",
              "    })();\n",
              "  </script>\n",
              "</div>\n",
              "\n",
              "    </div>\n",
              "  </div>\n"
            ],
            "application/vnd.google.colaboratory.intrinsic+json": {
              "type": "dataframe",
              "variable_name": "data",
              "summary": "{\n  \"name\": \"data\",\n  \"rows\": 8715,\n  \"fields\": [\n    {\n      \"column\": \"slice_file_name\",\n      \"properties\": {\n        \"dtype\": \"string\",\n        \"num_unique_values\": 8715,\n        \"samples\": [\n          \"167701-4-6-3.wav\",\n          \"146690-0-0-8.wav\",\n          \"203929-7-9-19.wav\"\n        ],\n        \"semantic_type\": \"\",\n        \"description\": \"\"\n      }\n    },\n    {\n      \"column\": \"fsID\",\n      \"properties\": {\n        \"dtype\": \"number\",\n        \"std\": 58013,\n        \"min\": 344,\n        \"max\": 209992,\n        \"num_unique_values\": 1296,\n        \"samples\": [\n          180937,\n          157940,\n          200161\n        ],\n        \"semantic_type\": \"\",\n        \"description\": \"\"\n      }\n    },\n    {\n      \"column\": \"start\",\n      \"properties\": {\n        \"dtype\": \"number\",\n        \"std\": 74.35581836834415,\n        \"min\": 0.0,\n        \"max\": 600.125356,\n        \"num_unique_values\": 4861,\n        \"samples\": [\n          10.421326,\n          1.133371,\n          8.464725\n        ],\n        \"semantic_type\": \"\",\n        \"description\": \"\"\n      }\n    },\n    {\n      \"column\": \"end\",\n      \"properties\": {\n        \"dtype\": \"number\",\n        \"std\": 74.43370806115512,\n        \"min\": 0.105962,\n        \"max\": 604.125356,\n        \"num_unique_values\": 5003,\n        \"samples\": [\n          47.494706,\n          6.34846,\n          1.03822\n        ],\n        \"semantic_type\": \"\",\n        \"description\": \"\"\n      }\n    },\n    {\n      \"column\": \"salience\",\n      \"properties\": {\n        \"dtype\": \"number\",\n        \"std\": 0,\n        \"min\": 1,\n        \"max\": 2,\n        \"num_unique_values\": 2,\n        \"samples\": [\n          2,\n          1\n        ],\n        \"semantic_type\": \"\",\n        \"description\": \"\"\n      }\n    },\n    {\n      \"column\": \"fold\",\n      \"properties\": {\n        \"dtype\": \"number\",\n        \"std\": 2,\n        \"min\": 1,\n        \"max\": 10,\n        \"num_unique_values\": 10,\n        \"samples\": [\n          3,\n          10\n        ],\n        \"semantic_type\": \"\",\n        \"description\": \"\"\n      }\n    },\n    {\n      \"column\": \"classID\",\n      \"properties\": {\n        \"dtype\": \"number\",\n        \"std\": 2,\n        \"min\": 0,\n        \"max\": 9,\n        \"num_unique_values\": 10,\n        \"samples\": [\n          7,\n          2\n        ],\n        \"semantic_type\": \"\",\n        \"description\": \"\"\n      }\n    },\n    {\n      \"column\": \"class\",\n      \"properties\": {\n        \"dtype\": \"category\",\n        \"num_unique_values\": 10,\n        \"samples\": [\n          \"jackhammer\",\n          \"children_playing\"\n        ],\n        \"semantic_type\": \"\",\n        \"description\": \"\"\n      }\n    }\n  ]\n}"
            }
          },
          "metadata": {},
          "execution_count": 7
        }
      ],
      "source": [
        "data = pd.read_csv('/content/sound-repo/UrbanSound8K.csv')\n",
        "audioPath = '/content/sound-repo/UrbanSound8K.csv'\n",
        "data.head()"
      ]
    },
    {
      "cell_type": "code",
      "source": [
        "data.tail()"
      ],
      "metadata": {
        "colab": {
          "base_uri": "https://localhost:8080/",
          "height": 206
        },
        "id": "mDJ8olmkzURQ",
        "outputId": "35ebd380-2f6e-45ae-ad00-a919efde06a9"
      },
      "execution_count": null,
      "outputs": [
        {
          "output_type": "execute_result",
          "data": {
            "text/plain": [
              "      slice_file_name   fsID       start         end  salience  fold  classID  \\\n",
              "8710  99812-1-2-0.wav  99812  159.522205  163.522205         2     7        1   \n",
              "8711  99812-1-3-0.wav  99812  181.142431  183.284976         2     7        1   \n",
              "8712  99812-1-4-0.wav  99812  242.691902  246.197885         2     7        1   \n",
              "8713  99812-1-5-0.wav  99812  253.209850  255.741948         2     7        1   \n",
              "8714  99812-1-6-0.wav  99812  332.289233  334.821332         2     7        1   \n",
              "\n",
              "         class  \n",
              "8710  car_horn  \n",
              "8711  car_horn  \n",
              "8712  car_horn  \n",
              "8713  car_horn  \n",
              "8714  car_horn  "
            ],
            "text/html": [
              "\n",
              "  <div id=\"df-524595f5-0f2c-4223-9237-085930e33907\" class=\"colab-df-container\">\n",
              "    <div>\n",
              "<style scoped>\n",
              "    .dataframe tbody tr th:only-of-type {\n",
              "        vertical-align: middle;\n",
              "    }\n",
              "\n",
              "    .dataframe tbody tr th {\n",
              "        vertical-align: top;\n",
              "    }\n",
              "\n",
              "    .dataframe thead th {\n",
              "        text-align: right;\n",
              "    }\n",
              "</style>\n",
              "<table border=\"1\" class=\"dataframe\">\n",
              "  <thead>\n",
              "    <tr style=\"text-align: right;\">\n",
              "      <th></th>\n",
              "      <th>slice_file_name</th>\n",
              "      <th>fsID</th>\n",
              "      <th>start</th>\n",
              "      <th>end</th>\n",
              "      <th>salience</th>\n",
              "      <th>fold</th>\n",
              "      <th>classID</th>\n",
              "      <th>class</th>\n",
              "    </tr>\n",
              "  </thead>\n",
              "  <tbody>\n",
              "    <tr>\n",
              "      <th>8710</th>\n",
              "      <td>99812-1-2-0.wav</td>\n",
              "      <td>99812</td>\n",
              "      <td>159.522205</td>\n",
              "      <td>163.522205</td>\n",
              "      <td>2</td>\n",
              "      <td>7</td>\n",
              "      <td>1</td>\n",
              "      <td>car_horn</td>\n",
              "    </tr>\n",
              "    <tr>\n",
              "      <th>8711</th>\n",
              "      <td>99812-1-3-0.wav</td>\n",
              "      <td>99812</td>\n",
              "      <td>181.142431</td>\n",
              "      <td>183.284976</td>\n",
              "      <td>2</td>\n",
              "      <td>7</td>\n",
              "      <td>1</td>\n",
              "      <td>car_horn</td>\n",
              "    </tr>\n",
              "    <tr>\n",
              "      <th>8712</th>\n",
              "      <td>99812-1-4-0.wav</td>\n",
              "      <td>99812</td>\n",
              "      <td>242.691902</td>\n",
              "      <td>246.197885</td>\n",
              "      <td>2</td>\n",
              "      <td>7</td>\n",
              "      <td>1</td>\n",
              "      <td>car_horn</td>\n",
              "    </tr>\n",
              "    <tr>\n",
              "      <th>8713</th>\n",
              "      <td>99812-1-5-0.wav</td>\n",
              "      <td>99812</td>\n",
              "      <td>253.209850</td>\n",
              "      <td>255.741948</td>\n",
              "      <td>2</td>\n",
              "      <td>7</td>\n",
              "      <td>1</td>\n",
              "      <td>car_horn</td>\n",
              "    </tr>\n",
              "    <tr>\n",
              "      <th>8714</th>\n",
              "      <td>99812-1-6-0.wav</td>\n",
              "      <td>99812</td>\n",
              "      <td>332.289233</td>\n",
              "      <td>334.821332</td>\n",
              "      <td>2</td>\n",
              "      <td>7</td>\n",
              "      <td>1</td>\n",
              "      <td>car_horn</td>\n",
              "    </tr>\n",
              "  </tbody>\n",
              "</table>\n",
              "</div>\n",
              "    <div class=\"colab-df-buttons\">\n",
              "\n",
              "  <div class=\"colab-df-container\">\n",
              "    <button class=\"colab-df-convert\" onclick=\"convertToInteractive('df-524595f5-0f2c-4223-9237-085930e33907')\"\n",
              "            title=\"Convert this dataframe to an interactive table.\"\n",
              "            style=\"display:none;\">\n",
              "\n",
              "  <svg xmlns=\"http://www.w3.org/2000/svg\" height=\"24px\" viewBox=\"0 -960 960 960\">\n",
              "    <path d=\"M120-120v-720h720v720H120Zm60-500h600v-160H180v160Zm220 220h160v-160H400v160Zm0 220h160v-160H400v160ZM180-400h160v-160H180v160Zm440 0h160v-160H620v160ZM180-180h160v-160H180v160Zm440 0h160v-160H620v160Z\"/>\n",
              "  </svg>\n",
              "    </button>\n",
              "\n",
              "  <style>\n",
              "    .colab-df-container {\n",
              "      display:flex;\n",
              "      gap: 12px;\n",
              "    }\n",
              "\n",
              "    .colab-df-convert {\n",
              "      background-color: #E8F0FE;\n",
              "      border: none;\n",
              "      border-radius: 50%;\n",
              "      cursor: pointer;\n",
              "      display: none;\n",
              "      fill: #1967D2;\n",
              "      height: 32px;\n",
              "      padding: 0 0 0 0;\n",
              "      width: 32px;\n",
              "    }\n",
              "\n",
              "    .colab-df-convert:hover {\n",
              "      background-color: #E2EBFA;\n",
              "      box-shadow: 0px 1px 2px rgba(60, 64, 67, 0.3), 0px 1px 3px 1px rgba(60, 64, 67, 0.15);\n",
              "      fill: #174EA6;\n",
              "    }\n",
              "\n",
              "    .colab-df-buttons div {\n",
              "      margin-bottom: 4px;\n",
              "    }\n",
              "\n",
              "    [theme=dark] .colab-df-convert {\n",
              "      background-color: #3B4455;\n",
              "      fill: #D2E3FC;\n",
              "    }\n",
              "\n",
              "    [theme=dark] .colab-df-convert:hover {\n",
              "      background-color: #434B5C;\n",
              "      box-shadow: 0px 1px 3px 1px rgba(0, 0, 0, 0.15);\n",
              "      filter: drop-shadow(0px 1px 2px rgba(0, 0, 0, 0.3));\n",
              "      fill: #FFFFFF;\n",
              "    }\n",
              "  </style>\n",
              "\n",
              "    <script>\n",
              "      const buttonEl =\n",
              "        document.querySelector('#df-524595f5-0f2c-4223-9237-085930e33907 button.colab-df-convert');\n",
              "      buttonEl.style.display =\n",
              "        google.colab.kernel.accessAllowed ? 'block' : 'none';\n",
              "\n",
              "      async function convertToInteractive(key) {\n",
              "        const element = document.querySelector('#df-524595f5-0f2c-4223-9237-085930e33907');\n",
              "        const dataTable =\n",
              "          await google.colab.kernel.invokeFunction('convertToInteractive',\n",
              "                                                    [key], {});\n",
              "        if (!dataTable) return;\n",
              "\n",
              "        const docLinkHtml = 'Like what you see? Visit the ' +\n",
              "          '<a target=\"_blank\" href=https://colab.research.google.com/notebooks/data_table.ipynb>data table notebook</a>'\n",
              "          + ' to learn more about interactive tables.';\n",
              "        element.innerHTML = '';\n",
              "        dataTable['output_type'] = 'display_data';\n",
              "        await google.colab.output.renderOutput(dataTable, element);\n",
              "        const docLink = document.createElement('div');\n",
              "        docLink.innerHTML = docLinkHtml;\n",
              "        element.appendChild(docLink);\n",
              "      }\n",
              "    </script>\n",
              "  </div>\n",
              "\n",
              "\n",
              "<div id=\"df-39f97d1f-68be-445a-82b7-40514001bc79\">\n",
              "  <button class=\"colab-df-quickchart\" onclick=\"quickchart('df-39f97d1f-68be-445a-82b7-40514001bc79')\"\n",
              "            title=\"Suggest charts\"\n",
              "            style=\"display:none;\">\n",
              "\n",
              "<svg xmlns=\"http://www.w3.org/2000/svg\" height=\"24px\"viewBox=\"0 0 24 24\"\n",
              "     width=\"24px\">\n",
              "    <g>\n",
              "        <path d=\"M19 3H5c-1.1 0-2 .9-2 2v14c0 1.1.9 2 2 2h14c1.1 0 2-.9 2-2V5c0-1.1-.9-2-2-2zM9 17H7v-7h2v7zm4 0h-2V7h2v10zm4 0h-2v-4h2v4z\"/>\n",
              "    </g>\n",
              "</svg>\n",
              "  </button>\n",
              "\n",
              "<style>\n",
              "  .colab-df-quickchart {\n",
              "      --bg-color: #E8F0FE;\n",
              "      --fill-color: #1967D2;\n",
              "      --hover-bg-color: #E2EBFA;\n",
              "      --hover-fill-color: #174EA6;\n",
              "      --disabled-fill-color: #AAA;\n",
              "      --disabled-bg-color: #DDD;\n",
              "  }\n",
              "\n",
              "  [theme=dark] .colab-df-quickchart {\n",
              "      --bg-color: #3B4455;\n",
              "      --fill-color: #D2E3FC;\n",
              "      --hover-bg-color: #434B5C;\n",
              "      --hover-fill-color: #FFFFFF;\n",
              "      --disabled-bg-color: #3B4455;\n",
              "      --disabled-fill-color: #666;\n",
              "  }\n",
              "\n",
              "  .colab-df-quickchart {\n",
              "    background-color: var(--bg-color);\n",
              "    border: none;\n",
              "    border-radius: 50%;\n",
              "    cursor: pointer;\n",
              "    display: none;\n",
              "    fill: var(--fill-color);\n",
              "    height: 32px;\n",
              "    padding: 0;\n",
              "    width: 32px;\n",
              "  }\n",
              "\n",
              "  .colab-df-quickchart:hover {\n",
              "    background-color: var(--hover-bg-color);\n",
              "    box-shadow: 0 1px 2px rgba(60, 64, 67, 0.3), 0 1px 3px 1px rgba(60, 64, 67, 0.15);\n",
              "    fill: var(--button-hover-fill-color);\n",
              "  }\n",
              "\n",
              "  .colab-df-quickchart-complete:disabled,\n",
              "  .colab-df-quickchart-complete:disabled:hover {\n",
              "    background-color: var(--disabled-bg-color);\n",
              "    fill: var(--disabled-fill-color);\n",
              "    box-shadow: none;\n",
              "  }\n",
              "\n",
              "  .colab-df-spinner {\n",
              "    border: 2px solid var(--fill-color);\n",
              "    border-color: transparent;\n",
              "    border-bottom-color: var(--fill-color);\n",
              "    animation:\n",
              "      spin 1s steps(1) infinite;\n",
              "  }\n",
              "\n",
              "  @keyframes spin {\n",
              "    0% {\n",
              "      border-color: transparent;\n",
              "      border-bottom-color: var(--fill-color);\n",
              "      border-left-color: var(--fill-color);\n",
              "    }\n",
              "    20% {\n",
              "      border-color: transparent;\n",
              "      border-left-color: var(--fill-color);\n",
              "      border-top-color: var(--fill-color);\n",
              "    }\n",
              "    30% {\n",
              "      border-color: transparent;\n",
              "      border-left-color: var(--fill-color);\n",
              "      border-top-color: var(--fill-color);\n",
              "      border-right-color: var(--fill-color);\n",
              "    }\n",
              "    40% {\n",
              "      border-color: transparent;\n",
              "      border-right-color: var(--fill-color);\n",
              "      border-top-color: var(--fill-color);\n",
              "    }\n",
              "    60% {\n",
              "      border-color: transparent;\n",
              "      border-right-color: var(--fill-color);\n",
              "    }\n",
              "    80% {\n",
              "      border-color: transparent;\n",
              "      border-right-color: var(--fill-color);\n",
              "      border-bottom-color: var(--fill-color);\n",
              "    }\n",
              "    90% {\n",
              "      border-color: transparent;\n",
              "      border-bottom-color: var(--fill-color);\n",
              "    }\n",
              "  }\n",
              "</style>\n",
              "\n",
              "  <script>\n",
              "    async function quickchart(key) {\n",
              "      const quickchartButtonEl =\n",
              "        document.querySelector('#' + key + ' button');\n",
              "      quickchartButtonEl.disabled = true;  // To prevent multiple clicks.\n",
              "      quickchartButtonEl.classList.add('colab-df-spinner');\n",
              "      try {\n",
              "        const charts = await google.colab.kernel.invokeFunction(\n",
              "            'suggestCharts', [key], {});\n",
              "      } catch (error) {\n",
              "        console.error('Error during call to suggestCharts:', error);\n",
              "      }\n",
              "      quickchartButtonEl.classList.remove('colab-df-spinner');\n",
              "      quickchartButtonEl.classList.add('colab-df-quickchart-complete');\n",
              "    }\n",
              "    (() => {\n",
              "      let quickchartButtonEl =\n",
              "        document.querySelector('#df-39f97d1f-68be-445a-82b7-40514001bc79 button');\n",
              "      quickchartButtonEl.style.display =\n",
              "        google.colab.kernel.accessAllowed ? 'block' : 'none';\n",
              "    })();\n",
              "  </script>\n",
              "</div>\n",
              "\n",
              "    </div>\n",
              "  </div>\n"
            ],
            "application/vnd.google.colaboratory.intrinsic+json": {
              "type": "dataframe",
              "summary": "{\n  \"name\": \"data\",\n  \"rows\": 5,\n  \"fields\": [\n    {\n      \"column\": \"slice_file_name\",\n      \"properties\": {\n        \"dtype\": \"string\",\n        \"num_unique_values\": 5,\n        \"samples\": [\n          \"99812-1-3-0.wav\",\n          \"99812-1-6-0.wav\",\n          \"99812-1-4-0.wav\"\n        ],\n        \"semantic_type\": \"\",\n        \"description\": \"\"\n      }\n    },\n    {\n      \"column\": \"fsID\",\n      \"properties\": {\n        \"dtype\": \"number\",\n        \"std\": 0,\n        \"min\": 99812,\n        \"max\": 99812,\n        \"num_unique_values\": 1,\n        \"samples\": [\n          99812\n        ],\n        \"semantic_type\": \"\",\n        \"description\": \"\"\n      }\n    },\n    {\n      \"column\": \"start\",\n      \"properties\": {\n        \"dtype\": \"number\",\n        \"std\": 67.90792194052374,\n        \"min\": 159.522205,\n        \"max\": 332.289233,\n        \"num_unique_values\": 5,\n        \"samples\": [\n          181.142431\n        ],\n        \"semantic_type\": \"\",\n        \"description\": \"\"\n      }\n    },\n    {\n      \"column\": \"end\",\n      \"properties\": {\n        \"dtype\": \"number\",\n        \"std\": 67.61796161581184,\n        \"min\": 163.522205,\n        \"max\": 334.821332,\n        \"num_unique_values\": 5,\n        \"samples\": [\n          183.284976\n        ],\n        \"semantic_type\": \"\",\n        \"description\": \"\"\n      }\n    },\n    {\n      \"column\": \"salience\",\n      \"properties\": {\n        \"dtype\": \"number\",\n        \"std\": 0,\n        \"min\": 2,\n        \"max\": 2,\n        \"num_unique_values\": 1,\n        \"samples\": [\n          2\n        ],\n        \"semantic_type\": \"\",\n        \"description\": \"\"\n      }\n    },\n    {\n      \"column\": \"fold\",\n      \"properties\": {\n        \"dtype\": \"number\",\n        \"std\": 0,\n        \"min\": 7,\n        \"max\": 7,\n        \"num_unique_values\": 1,\n        \"samples\": [\n          7\n        ],\n        \"semantic_type\": \"\",\n        \"description\": \"\"\n      }\n    },\n    {\n      \"column\": \"classID\",\n      \"properties\": {\n        \"dtype\": \"number\",\n        \"std\": 0,\n        \"min\": 1,\n        \"max\": 1,\n        \"num_unique_values\": 1,\n        \"samples\": [\n          1\n        ],\n        \"semantic_type\": \"\",\n        \"description\": \"\"\n      }\n    },\n    {\n      \"column\": \"class\",\n      \"properties\": {\n        \"dtype\": \"category\",\n        \"num_unique_values\": 1,\n        \"samples\": [\n          \"car_horn\"\n        ],\n        \"semantic_type\": \"\",\n        \"description\": \"\"\n      }\n    }\n  ]\n}"
            }
          },
          "metadata": {},
          "execution_count": 8
        }
      ]
    },
    {
      "cell_type": "code",
      "execution_count": null,
      "metadata": {
        "colab": {
          "base_uri": "https://localhost:8080/",
          "height": 523
        },
        "id": "jHtTIh9WxO5R",
        "outputId": "145eedca-0cdf-4ad6-d693-b4d813d7cbd0"
      },
      "outputs": [
        {
          "output_type": "stream",
          "name": "stderr",
          "text": [
            "<ipython-input-9-37724157e065>:2: FutureWarning: \n",
            "\n",
            "Passing `palette` without assigning `hue` is deprecated and will be removed in v0.14.0. Assign the `y` variable to `hue` and set `legend=False` for the same effect.\n",
            "\n",
            "  sns.countplot(y = data['class'], palette = 'viridis')\n"
          ]
        },
        {
          "output_type": "display_data",
          "data": {
            "text/plain": [
              "<Figure size 1000x400 with 1 Axes>"
            ],
            "image/png": "[encoded data removed]"
          },
          "metadata": {}
        }
      ],
      "source": [
        "plt.figure(figsize = (10, 4))\n",
        "sns.countplot(y = data['class'], palette = 'viridis')\n",
        "plt.title('Distribution of Classes', fontsize = 16)\n",
        "plt.xlabel('Count', fontsize = 14)\n",
        "plt.ylabel('Class', fontsize = 14)\n",
        "plt.show()"
      ]
    },
    {
      "cell_type": "code",
      "execution_count": null,
      "metadata": {
        "id": "seoTjrtxxO5R"
      },
      "outputs": [],
      "source": [
        "# Displaying a random waveform and spectrogram\n",
        "\n",
        "# Randomly selecting a row\n",
        "row = data.sample(1).iloc[0]\n",
        "\n",
        "# Constructing file path\n",
        "audioFile = os.path.join(audioPath, 'fold' + str(row['fold']), row['slice_file_name'])\n",
        "\n",
        "# Loading audio file\n",
        "waveform, sampleRate = librosa.load(audioFile)\n",
        "\n",
        "# Displaying audio\n",
        "print(f\"Class : {row['class']}\\n\")\n",
        "ipd.display(ipd.Audio(waveform, rate = sampleRate))\n",
        "\n",
        "# Displaying waveform\n",
        "plt.figure(figsize = (15, 4))\n",
        "plt.subplot(1, 2, 1)\n",
        "plt.plot(waveform)\n",
        "plt.title('Waveform', fontsize = 16)\n",
        "plt.xlabel('Sample Index', fontsize = 12)\n",
        "plt.ylabel('Amplitude', fontsize = 12)\n",
        "\n",
        "# Displaying spectrogram\n",
        "plt.subplot(1, 2, 2)\n",
        "plt.specgram(waveform, Fs = sampleRate)\n",
        "plt.title('Spectrogram', fontsize = 16)\n",
        "plt.xlabel('Time (s)', fontsize = 12)\n",
        "plt.ylabel('Frequency (Hz)', fontsize = 12)\n",
        "\n",
        "plt.show()"
      ]
    },
    {
      "cell_type": "code",
      "execution_count": null,
      "metadata": {
        "id": "rI8RTtglxO5S"
      },
      "outputs": [],
      "source": [
        "def augmentData(waveform):\n",
        "    # Applying pre-emphasis\n",
        "    waveform = librosa.effects.preemphasis(waveform)\n",
        "\n",
        "    # Time stretching\n",
        "    if np.random.rand() < 0.5:\n",
        "        rate = np.random.uniform(0.8, 1.2)\n",
        "        waveform = librosa.effects.time_stretch(waveform, rate = rate)\n",
        "\n",
        "    # Adding noise\n",
        "    waveform += 0.01 * np.random.normal(size = waveform.shape)\n",
        "\n",
        "    return waveform"
      ]
    },
    {
      "cell_type": "code",
      "execution_count": null,
      "metadata": {
        "id": "k5tvP2EWxO5S"
      },
      "outputs": [],
      "source": [
        "def mfccExtract(file):\n",
        "    # Loading audio file\n",
        "    waveform, sampleRate = librosa.load(file)\n",
        "\n",
        "    # waveform = augmentData(waveform)\n",
        "    features = librosa.feature.mfcc(y = waveform, sr = sampleRate, n_mfcc = 64)\n",
        "    return np.mean(features, axis = 1)"
      ]
    },
    {
      "cell_type": "code",
      "execution_count": null,
      "metadata": {
        "id": "9tshXIL6xO5S",
        "outputId": "bed8cd6f-e51d-4449-a904-0d7f3473f533"
      },
      "outputs": [
        {
          "name": "stderr",
          "output_type": "stream",
          "text": [
            "8732it [03:17, 44.17it/s]\n"
          ]
        }
      ],
      "source": [
        "# Storing mfcc features along with classes in dataframe\n",
        "extractAll = []\n",
        "\n",
        "# Iterating through each row\n",
        "for index, row in tqdm(data.iterrows()):\n",
        "    # Constructing file path\n",
        "    audioFile = os.path.join(audioPath, 'fold' + str(row['fold']), row['slice_file_name'])\n",
        "\n",
        "    # Extracting features and appending them\n",
        "    features = mfccExtract(audioFile)\n",
        "    extractAll.append([features, row['class']])"
      ]
    },
    {
      "cell_type": "code",
      "execution_count": null,
      "metadata": {
        "id": "21jmAuz4xO5T",
        "outputId": "7fddcc58-b843-4045-bc9a-a827add9e00b"
      },
      "outputs": [
        {
          "data": {
            "text/html": [
              "<div>\n",
              "<style scoped>\n",
              "    .dataframe tbody tr th:only-of-type {\n",
              "        vertical-align: middle;\n",
              "    }\n",
              "\n",
              "    .dataframe tbody tr th {\n",
              "        vertical-align: top;\n",
              "    }\n",
              "\n",
              "    .dataframe thead th {\n",
              "        text-align: right;\n",
              "    }\n",
              "</style>\n",
              "<table border=\"1\" class=\"dataframe\">\n",
              "  <thead>\n",
              "    <tr style=\"text-align: right;\">\n",
              "      <th></th>\n",
              "      <th>Features</th>\n",
              "      <th>Class</th>\n",
              "    </tr>\n",
              "  </thead>\n",
              "  <tbody>\n",
              "    <tr>\n",
              "      <th>0</th>\n",
              "      <td>[-211.93698, 62.581207, -122.81315, -60.74528,...</td>\n",
              "      <td>dog_bark</td>\n",
              "    </tr>\n",
              "    <tr>\n",
              "      <th>1</th>\n",
              "      <td>[-417.0052, 99.336624, -42.995586, 51.073326, ...</td>\n",
              "      <td>children_playing</td>\n",
              "    </tr>\n",
              "    <tr>\n",
              "      <th>2</th>\n",
              "      <td>[-452.39316, 112.36253, -37.578068, 43.195866,...</td>\n",
              "      <td>children_playing</td>\n",
              "    </tr>\n",
              "    <tr>\n",
              "      <th>3</th>\n",
              "      <td>[-406.47922, 91.1966, -25.043556, 42.78452, 11...</td>\n",
              "      <td>children_playing</td>\n",
              "    </tr>\n",
              "    <tr>\n",
              "      <th>4</th>\n",
              "      <td>[-439.63873, 103.86223, -42.658787, 50.690277,...</td>\n",
              "      <td>children_playing</td>\n",
              "    </tr>\n",
              "  </tbody>\n",
              "</table>\n",
              "</div>"
            ],
            "text/plain": [
              "                                            Features             Class\n",
              "0  [-211.93698, 62.581207, -122.81315, -60.74528,...          dog_bark\n",
              "1  [-417.0052, 99.336624, -42.995586, 51.073326, ...  children_playing\n",
              "2  [-452.39316, 112.36253, -37.578068, 43.195866,...  children_playing\n",
              "3  [-406.47922, 91.1966, -25.043556, 42.78452, 11...  children_playing\n",
              "4  [-439.63873, 103.86223, -42.658787, 50.690277,...  children_playing"
            ]
          },
          "execution_count": 25,
          "metadata": {},
          "output_type": "execute_result"
        }
      ],
      "source": [
        "featuresDf = pd.DataFrame(extractAll, columns = ['Features', 'Class'])\n",
        "featuresDf.head()"
      ]
    },
    {
      "cell_type": "code",
      "execution_count": null,
      "metadata": {
        "id": "vBVfisHpxO5T"
      },
      "outputs": [],
      "source": [
        "# Converting features into numpy array\n",
        "x = np.array(featuresDf['Features'].tolist())\n",
        "\n",
        "# Encoding classes\n",
        "encoder = LabelEncoder()\n",
        "y = encoder.fit_transform(featuresDf['Class'])\n",
        "y = to_categorical(y, num_classes = 10)"
      ]
    },
    {
      "cell_type": "code",
      "execution_count": null,
      "metadata": {
        "id": "reid16TYxO5U"
      },
      "outputs": [],
      "source": [
        "trainX, testX, trainY, testY = train_test_split(x, y, stratify = y, random_state = 0)"
      ]
    },
    {
      "cell_type": "code",
      "execution_count": null,
      "metadata": {
        "id": "gC-wiIcAxO5U",
        "outputId": "72cb9c12-0131-4366-c8ee-75c8458b892e"
      },
      "outputs": [
        {
          "name": "stdout",
          "output_type": "stream",
          "text": [
            "WARNING:tensorflow:From c:\\Users\\OMOLP028\\AppData\\Local\\Programs\\Python\\Python311\\Lib\\site-packages\\keras\\src\\backend.py:873: The name tf.get_default_graph is deprecated. Please use tf.compat.v1.get_default_graph instead.\n",
            "\n",
            "WARNING:tensorflow:From c:\\Users\\OMOLP028\\AppData\\Local\\Programs\\Python\\Python311\\Lib\\site-packages\\keras\\src\\optimizers\\__init__.py:309: The name tf.train.Optimizer is deprecated. Please use tf.compat.v1.train.Optimizer instead.\n",
            "\n",
            "Model: \"sequential\"\n",
            "_________________________________________________________________\n",
            " Layer (type)                Output Shape              Param #   \n",
            "=================================================================\n",
            " dense (Dense)               (None, 1024)              66560     \n",
            "                                                                 \n",
            " batch_normalization (Batch  (None, 1024)              4096      \n",
            " Normalization)                                                  \n",
            "                                                                 \n",
            " dense_1 (Dense)             (None, 512)               524800    \n",
            "                                                                 \n",
            " batch_normalization_1 (Bat  (None, 512)               2048      \n",
            " chNormalization)                                                \n",
            "                                                                 \n",
            " dense_2 (Dense)             (None, 256)               131328    \n",
            "                                                                 \n",
            " batch_normalization_2 (Bat  (None, 256)               1024      \n",
            " chNormalization)                                                \n",
            "                                                                 \n",
            " dense_3 (Dense)             (None, 128)               32896     \n",
            "                                                                 \n",
            " batch_normalization_3 (Bat  (None, 128)               512       \n",
            " chNormalization)                                                \n",
            "                                                                 \n",
            " dense_4 (Dense)             (None, 64)                8256      \n",
            "                                                                 \n",
            " batch_normalization_4 (Bat  (None, 64)                256       \n",
            " chNormalization)                                                \n",
            "                                                                 \n",
            " dense_5 (Dense)             (None, 32)                2080      \n",
            "                                                                 \n",
            " batch_normalization_5 (Bat  (None, 32)                128       \n",
            " chNormalization)                                                \n",
            "                                                                 \n",
            " dense_6 (Dense)             (None, 10)                330       \n",
            "                                                                 \n",
            "=================================================================\n",
            "Total params: 774314 (2.95 MB)\n",
            "Trainable params: 770282 (2.94 MB)\n",
            "Non-trainable params: 4032 (15.75 KB)\n",
            "_________________________________________________________________\n"
          ]
        }
      ],
      "source": [
        "model = Sequential([\n",
        "    layers.Dense(1024, activation = 'relu', input_shape = (64,)),\n",
        "    layers.BatchNormalization(),\n",
        "\n",
        "    layers.Dense(512, activation = 'relu'),\n",
        "    layers.BatchNormalization(),\n",
        "\n",
        "    layers.Dense(256, activation = 'relu'),\n",
        "    layers.BatchNormalization(),\n",
        "\n",
        "    layers.Dense(128, activation = 'relu'),\n",
        "    layers.BatchNormalization(),\n",
        "\n",
        "    layers.Dense(64, activation = 'relu'),\n",
        "    layers.BatchNormalization(),\n",
        "\n",
        "    layers.Dense(32, activation = 'relu'),\n",
        "    layers.BatchNormalization(),\n",
        "\n",
        "    layers.Dense(10, activation = 'softmax')\n",
        "])\n",
        "\n",
        "# Defining optimizer, loss function, and metrics\n",
        "model.compile(optimizer = 'adam', loss = 'categorical_crossentropy', metrics = ['accuracy'])\n",
        "model.summary()"
      ]
    },
    {
      "cell_type": "code",
      "execution_count": null,
      "metadata": {
        "id": "usu3C8mPxO5U"
      },
      "outputs": [],
      "source": [
        "# Adding early stopping to avoid overfitting\n",
        "earlyStopping = EarlyStopping(\n",
        "    monitor = 'val_accuracy',\n",
        "    min_delta = 5e-4,\n",
        "    patience = 5,\n",
        "    restore_best_weights = True\n",
        ")"
      ]
    },
    {
      "cell_type": "code",
      "execution_count": null,
      "metadata": {
        "id": "yB5J1cuXxO5U"
      },
      "outputs": [],
      "source": [
        "# Adding a learning rate annealer\n",
        "reduceLR = ReduceLROnPlateau(\n",
        "    monitor = 'val_accuracy',\n",
        "    factor = 0.5,\n",
        "    patience = 3,\n",
        "    min_lr = 1e-5\n",
        ")"
      ]
    },
    {
      "cell_type": "code",
      "execution_count": null,
      "metadata": {
        "id": "LzFp2fVqxO5U",
        "outputId": "3c30c5e8-e0c9-4ee0-eaa8-376dbfc0fca8"
      },
      "outputs": [
        {
          "name": "stdout",
          "output_type": "stream",
          "text": [
            "Epoch 1/50\n",
            "WARNING:tensorflow:From c:\\Users\\OMOLP028\\AppData\\Local\\Programs\\Python\\Python311\\Lib\\site-packages\\keras\\src\\utils\\tf_utils.py:492: The name tf.ragged.RaggedTensorValue is deprecated. Please use tf.compat.v1.ragged.RaggedTensorValue instead.\n",
            "\n",
            "WARNING:tensorflow:From c:\\Users\\OMOLP028\\AppData\\Local\\Programs\\Python\\Python311\\Lib\\site-packages\\keras\\src\\engine\\base_layer_utils.py:384: The name tf.executing_eagerly_outside_functions is deprecated. Please use tf.compat.v1.executing_eagerly_outside_functions instead.\n",
            "\n",
            "205/205 [==============================] - 7s 13ms/step - loss: 1.4760 - accuracy: 0.5228 - val_loss: 1.1429 - val_accuracy: 0.6482 - lr: 0.0010\n",
            "Epoch 2/50\n",
            "205/205 [==============================] - 2s 11ms/step - loss: 1.0075 - accuracy: 0.6775 - val_loss: 0.8865 - val_accuracy: 0.7164 - lr: 0.0010\n",
            "Epoch 3/50\n",
            "205/205 [==============================] - 2s 12ms/step - loss: 0.7973 - accuracy: 0.7459 - val_loss: 0.7161 - val_accuracy: 0.7737 - lr: 0.0010\n",
            "Epoch 4/50\n",
            "205/205 [==============================] - 2s 12ms/step - loss: 0.6777 - accuracy: 0.7865 - val_loss: 0.8051 - val_accuracy: 0.7494 - lr: 0.0010\n",
            "Epoch 5/50\n",
            "205/205 [==============================] - 3s 13ms/step - loss: 0.5975 - accuracy: 0.8033 - val_loss: 0.5223 - val_accuracy: 0.8259 - lr: 0.0010\n",
            "Epoch 6/50\n",
            "205/205 [==============================] - 2s 11ms/step - loss: 0.4957 - accuracy: 0.8409 - val_loss: 0.4868 - val_accuracy: 0.8424 - lr: 0.0010\n",
            "Epoch 7/50\n",
            "205/205 [==============================] - 3s 14ms/step - loss: 0.4354 - accuracy: 0.8585 - val_loss: 0.5401 - val_accuracy: 0.8287 - lr: 0.0010\n",
            "Epoch 8/50\n",
            "205/205 [==============================] - 2s 12ms/step - loss: 0.4025 - accuracy: 0.8643 - val_loss: 0.4687 - val_accuracy: 0.8534 - lr: 0.0010\n",
            "Epoch 9/50\n",
            "205/205 [==============================] - 3s 13ms/step - loss: 0.3639 - accuracy: 0.8794 - val_loss: 0.5005 - val_accuracy: 0.8383 - lr: 0.0010\n",
            "Epoch 10/50\n",
            "205/205 [==============================] - 3s 13ms/step - loss: 0.3335 - accuracy: 0.8911 - val_loss: 0.4444 - val_accuracy: 0.8630 - lr: 0.0010\n",
            "Epoch 11/50\n",
            "205/205 [==============================] - 2s 11ms/step - loss: 0.2967 - accuracy: 0.8983 - val_loss: 0.4437 - val_accuracy: 0.8557 - lr: 0.0010\n",
            "Epoch 12/50\n",
            "205/205 [==============================] - 3s 14ms/step - loss: 0.2902 - accuracy: 0.9067 - val_loss: 0.3973 - val_accuracy: 0.8754 - lr: 0.0010\n",
            "Epoch 13/50\n",
            "205/205 [==============================] - 2s 11ms/step - loss: 0.2444 - accuracy: 0.9194 - val_loss: 0.4342 - val_accuracy: 0.8731 - lr: 0.0010\n",
            "Epoch 14/50\n",
            "205/205 [==============================] - 3s 14ms/step - loss: 0.2470 - accuracy: 0.9142 - val_loss: 0.4335 - val_accuracy: 0.8731 - lr: 0.0010\n",
            "Epoch 15/50\n",
            "205/205 [==============================] - 2s 12ms/step - loss: 0.2382 - accuracy: 0.9157 - val_loss: 0.3787 - val_accuracy: 0.8887 - lr: 0.0010\n",
            "Epoch 16/50\n",
            "205/205 [==============================] - 3s 16ms/step - loss: 0.2303 - accuracy: 0.9247 - val_loss: 0.3509 - val_accuracy: 0.8997 - lr: 0.0010\n",
            "Epoch 17/50\n",
            "205/205 [==============================] - 2s 11ms/step - loss: 0.2286 - accuracy: 0.9174 - val_loss: 0.3260 - val_accuracy: 0.9043 - lr: 0.0010\n",
            "Epoch 18/50\n",
            "205/205 [==============================] - 3s 16ms/step - loss: 0.1949 - accuracy: 0.9328 - val_loss: 0.3460 - val_accuracy: 0.8960 - lr: 0.0010\n",
            "Epoch 19/50\n",
            "205/205 [==============================] - 2s 10ms/step - loss: 0.2025 - accuracy: 0.9324 - val_loss: 0.4094 - val_accuracy: 0.8846 - lr: 0.0010\n",
            "Epoch 20/50\n",
            "205/205 [==============================] - 3s 16ms/step - loss: 0.1822 - accuracy: 0.9423 - val_loss: 0.3187 - val_accuracy: 0.9111 - lr: 0.0010\n",
            "Epoch 21/50\n",
            "205/205 [==============================] - 3s 15ms/step - loss: 0.1587 - accuracy: 0.9473 - val_loss: 0.3816 - val_accuracy: 0.9011 - lr: 0.0010\n",
            "Epoch 22/50\n",
            "205/205 [==============================] - 3s 14ms/step - loss: 0.1465 - accuracy: 0.9502 - val_loss: 0.3269 - val_accuracy: 0.9111 - lr: 0.0010\n",
            "Epoch 23/50\n",
            "205/205 [==============================] - 3s 13ms/step - loss: 0.1686 - accuracy: 0.9440 - val_loss: 0.3679 - val_accuracy: 0.8956 - lr: 0.0010\n",
            "Epoch 24/50\n",
            "205/205 [==============================] - 3s 14ms/step - loss: 0.0903 - accuracy: 0.9708 - val_loss: 0.2572 - val_accuracy: 0.9340 - lr: 5.0000e-04\n",
            "Epoch 25/50\n",
            "205/205 [==============================] - 3s 14ms/step - loss: 0.0624 - accuracy: 0.9795 - val_loss: 0.2602 - val_accuracy: 0.9331 - lr: 5.0000e-04\n",
            "Epoch 26/50\n",
            "205/205 [==============================] - 3s 14ms/step - loss: 0.0602 - accuracy: 0.9792 - val_loss: 0.2700 - val_accuracy: 0.9262 - lr: 5.0000e-04\n",
            "Epoch 27/50\n",
            "205/205 [==============================] - 3s 14ms/step - loss: 0.0550 - accuracy: 0.9832 - val_loss: 0.2726 - val_accuracy: 0.9290 - lr: 5.0000e-04\n",
            "Epoch 28/50\n",
            "205/205 [==============================] - 3s 13ms/step - loss: 0.0465 - accuracy: 0.9846 - val_loss: 0.2337 - val_accuracy: 0.9423 - lr: 2.5000e-04\n",
            "Epoch 29/50\n",
            "205/205 [==============================] - 3s 14ms/step - loss: 0.0357 - accuracy: 0.9876 - val_loss: 0.2321 - val_accuracy: 0.9404 - lr: 2.5000e-04\n",
            "Epoch 30/50\n",
            "205/205 [==============================] - 3s 14ms/step - loss: 0.0290 - accuracy: 0.9914 - val_loss: 0.2453 - val_accuracy: 0.9427 - lr: 2.5000e-04\n",
            "Epoch 31/50\n",
            "205/205 [==============================] - 3s 13ms/step - loss: 0.0339 - accuracy: 0.9879 - val_loss: 0.2370 - val_accuracy: 0.9414 - lr: 2.5000e-04\n",
            "Epoch 32/50\n",
            "205/205 [==============================] - 3s 14ms/step - loss: 0.0320 - accuracy: 0.9893 - val_loss: 0.2439 - val_accuracy: 0.9441 - lr: 2.5000e-04\n",
            "Epoch 33/50\n",
            "205/205 [==============================] - 3s 12ms/step - loss: 0.0299 - accuracy: 0.9896 - val_loss: 0.2508 - val_accuracy: 0.9382 - lr: 2.5000e-04\n",
            "Epoch 34/50\n",
            "205/205 [==============================] - 3s 14ms/step - loss: 0.0277 - accuracy: 0.9905 - val_loss: 0.2397 - val_accuracy: 0.9391 - lr: 2.5000e-04\n",
            "Epoch 35/50\n",
            "205/205 [==============================] - 2s 12ms/step - loss: 0.0297 - accuracy: 0.9901 - val_loss: 0.2607 - val_accuracy: 0.9368 - lr: 2.5000e-04\n",
            "Epoch 36/50\n",
            "205/205 [==============================] - 3s 15ms/step - loss: 0.0258 - accuracy: 0.9925 - val_loss: 0.2488 - val_accuracy: 0.9432 - lr: 1.2500e-04\n",
            "Epoch 37/50\n",
            "205/205 [==============================] - 2s 11ms/step - loss: 0.0223 - accuracy: 0.9934 - val_loss: 0.2497 - val_accuracy: 0.9414 - lr: 1.2500e-04\n"
          ]
        }
      ],
      "source": [
        "# Training model\n",
        "history = model.fit(\n",
        "    trainX, trainY,\n",
        "    validation_data = (testX, testY),\n",
        "    epochs = 50,\n",
        "    callbacks = [earlyStopping, reduceLR]\n",
        ")"
      ]
    },
    {
      "cell_type": "code",
      "execution_count": null,
      "metadata": {
        "id": "RUPringlxO5V"
      },
      "outputs": [],
      "source": [
        "historyDf = pd.DataFrame(history.history)"
      ]
    },
    {
      "cell_type": "code",
      "execution_count": null,
      "metadata": {
        "id": "2MOfX_IexO5V",
        "outputId": "82fbe2d3-bbdf-4a48-d63b-a48f96a8728c"
      },
      "outputs": [
        {
          "data": {
            "text/plain": [
              "<Axes: >"
            ]
          },
          "execution_count": 33,
          "metadata": {},
          "output_type": "execute_result"
        },
        {
          "data": {
            "image/png": "[encoded data removed]",
            "text/plain": [
              "<Figure size 640x480 with 1 Axes>"
            ]
          },
          "metadata": {},
          "output_type": "display_data"
        }
      ],
      "source": [
        "# Plotting training and validation loss\n",
        "historyDf.loc[:, ['loss', 'val_loss']].plot()"
      ]
    },
    {
      "cell_type": "code",
      "execution_count": null,
      "metadata": {
        "id": "KbKXZIpYxO5V",
        "outputId": "080e0e0a-3ebd-4e05-d875-48ef9d417682"
      },
      "outputs": [
        {
          "data": {
            "text/plain": [
              "<Axes: >"
            ]
          },
          "execution_count": 34,
          "metadata": {},
          "output_type": "execute_result"
        },
        {
          "data": {
            "image/png": "[encoded data removed]",
            "text/plain": [
              "<Figure size 640x480 with 1 Axes>"
            ]
          },
          "metadata": {},
          "output_type": "display_data"
        }
      ],
      "source": [
        "# Plotting training and validation accuracy\n",
        "historyDf.loc[:, ['accuracy', 'val_accuracy']].plot()"
      ]
    },
    {
      "cell_type": "code",
      "execution_count": null,
      "metadata": {
        "id": "-6oxOoCzxO5V",
        "outputId": "0339806b-dae2-46a2-be4d-06810e063b1f"
      },
      "outputs": [
        {
          "name": "stdout",
          "output_type": "stream",
          "text": [
            "69/69 [==============================] - 0s 3ms/step - loss: 0.2439 - accuracy: 0.9441\n",
            "Validation accuracy of model : 94.41%\n"
          ]
        }
      ],
      "source": [
        "# Evaluating model\n",
        "score = model.evaluate(testX, testY)[1] * 100\n",
        "print(f'Validation accuracy of model : {score:.2f}%')"
      ]
    },
    {
      "cell_type": "code",
      "execution_count": null,
      "metadata": {
        "id": "HI9aqtDSxO5V",
        "outputId": "b1adbaa9-137e-481f-b60a-b0879f1ddf11"
      },
      "outputs": [
        {
          "name": "stdout",
          "output_type": "stream",
          "text": [
            "69/69 [==============================] - 1s 3ms/step\n"
          ]
        },
        {
          "data": {
            "image/png": "[encoded data removed]",
            "text/plain": [
              "<Figure size 1200x600 with 1 Axes>"
            ]
          },
          "metadata": {},
          "output_type": "display_data"
        }
      ],
      "source": [
        "# Plotting confusion matrix\n",
        "pred = np.argmax(model.predict(testX), axis = 1)\n",
        "true = np.argmax(testY, axis = 1)\n",
        "\n",
        "matrix = confusion_matrix(true, pred)\n",
        "\n",
        "plt.figure(figsize = (12, 6))\n",
        "sns.heatmap(matrix, annot = True, cbar = False, fmt = 'd', cmap = 'Blues', xticklabels = encoder.classes_, yticklabels = encoder.classes_)\n",
        "plt.title('Confusion Matrix', fontsize = 16)\n",
        "plt.xlabel('Predicted Class', fontsize = 14)\n",
        "plt.xticks(rotation = 30)\n",
        "plt.ylabel('True Class', fontsize = 14)\n",
        "plt.show()"
      ]
    },
    {
      "cell_type": "code",
      "source": [
        "from tensorflow.keras.models import load_model, save_model\n",
        "\n",
        "# Assuming 'model' is your trained model\n",
        "#model.save('/content/drive/MyDrive/1.ALL-RESEARCH/0-TOE_NAIL_CLASSIFICATION/CNN_nail_classification_model.h5')\n",
        "model.save('/content/drive/MyDrive/1.ALL-RESEARCH/0-TOE_NAIL_CLASSIFICATION/CNN_nail_classification_model.keras')"
      ],
      "metadata": {
        "id": "MQeYQEGx0Nay"
      },
      "execution_count": null,
      "outputs": []
    },
    {
      "cell_type": "markdown",
      "source": [
        "# AUDIO CLASSIFICATION Testing"
      ],
      "metadata": {
        "id": "yzKOGDHv3UNA"
      }
    },
    {
      "cell_type": "markdown",
      "source": [
        "##User Interface created using Gradio"
      ],
      "metadata": {
        "id": "xhwPqv3d3jXG"
      }
    },
    {
      "cell_type": "markdown",
      "source": [],
      "metadata": {
        "id": "RhDBh2UK3jQL"
      }
    },
    {
      "cell_type": "code",
      "source": [
        "!pip install gradio"
      ],
      "metadata": {
        "id": "dVpE8fut3iky"
      },
      "execution_count": null,
      "outputs": []
    },
    {
      "cell_type": "code",
      "source": [
        "import numpy as np\n",
        "import matplotlib.pyplot as plt\n",
        "from keras.models import load_model\n",
        "from tensorflow.keras.preprocessing.image import ImageDataGenerator, img_to_array, load_img\n",
        "from tensorflow.keras.applications.vgg19 import VGG19, preprocess_input, decode_predictions\n",
        "import gradio as gr"
      ],
      "metadata": {
        "id": "dkh3AANz3YNz"
      },
      "execution_count": null,
      "outputs": []
    },
    {
      "cell_type": "code",
      "source": [
        "classes_dict = {\n",
        "0:'Class_1_-_Tinea_unguium',\n",
        "1:'Class_2_-_Paronychia',\n",
        "2:'AppClass_3_-_Ingrown_Toenail',\n",
        "3:'Class_4_-_Nail_Psoriasis',\n",
        "4:'Class_5_-_Erythrasma'\n",
        "}\n",
        "\n",
        "\n",
        "# Remove underscores from the dictionary values\n",
        "classes_dict_cleaned = {key: value.replace('_', ' ') for key, value in classes_dict.items()}\n",
        "\n",
        "# Now, classes_dict_cleaned contains the cleaned class names\n",
        "print(classes_dict_cleaned)"
      ],
      "metadata": {
        "id": "phA3MLO_34Vq"
      },
      "execution_count": null,
      "outputs": []
    },
    {
      "cell_type": "code",
      "source": [
        "import numpy as np\n",
        "import matplotlib.pyplot as plt\n",
        "from keras.models import load_model\n",
        "from keras.preprocessing.image import load_img, img_to_array\n",
        "from keras.applications.imagenet_utils import preprocess_input\n",
        "\n",
        "# Function to make predictions\n",
        "def prediction(path, model, classes_dict):\n",
        "    \"\"\"\n",
        "    This function takes an audio file path, loads a pre-trained model,\n",
        "    preprocesses the audio, and makes a prediction using the model.\n",
        "\n",
        "    Parameters:\n",
        "    - path: The path to the input audio.\n",
        "    - model: The pre-trained model for classification.\n",
        "    - classes_dict: A dictionary mapping class indices to human-readable labels.\n",
        "\n",
        "    Returns:\n",
        "    - img: The original input audio.\n",
        "    - predicted_class: The predicted class label.\n",
        "    \"\"\"\n",
        "\n",
        "    # Load and preprocess the audio\n",
        "    img = load_img(path, target_size=(180, 180))  # Resizing the audio to the model input size\n",
        "    img_arr = img_to_array(img)                   # Convert audio to array\n",
        "    processed_img_arr = preprocess_input(img_arr) # Preprocess audio for model compatibility\n",
        "\n",
        "    # Expand audio dimensions to match the input shape for the model (batch_size, height, width, channels)\n",
        "    img_exp_dim = np.expand_dims(processed_img_arr, axis=0)\n",
        "\n",
        "    # Make predictions using the model\n",
        "    prediction_probabilities = model.predict(img_exp_dim)\n",
        "    pred_class_index = np.argmax(prediction_probabilities)\n",
        "    predicted_class = classes_dict[pred_class_index]\n",
        "    predicted_probability = prediction_probabilities[0][pred_class_index]\n",
        "\n",
        "    # Display the predicted class and probability\n",
        "    print(f\"Predicted Class: {predicted_class} with probability {predicted_probability:.2f}\")\n",
        "\n",
        "    # Plot the input audio with the prediction\n",
        "    plt.imshow(img)\n",
        "    plt.axis('off')  # Remove axis\n",
        "    plt.title(f\"Predicted Class: {predicted_class}\")\n",
        "    plt.show()\n",
        "\n",
        "    return img, predicted_class\n",
        "\n",
        "# Function to load the model and perform prediction\n",
        "def predict(audio):\n",
        "    \"\"\"\n",
        "    This function takes an audio object from the user interface,\n",
        "    loads a pre-trained model, and makes a prediction.\n",
        "\n",
        "    Parameters:\n",
        "    - audio: The audio object passed from the user interface.\n",
        "\n",
        "    Returns:\n",
        "    - img: The processed audio.\n",
        "    - predicted_class: The predicted class label.\n",
        "    \"\"\"\n",
        "\n",
        "    # Load the pre-trained model (ensure the path to your model is correct)\n",
        "    model = load_model(\"/content/drive/MyDrive/1.ALL-RESEARCH/0-TOE_NAIL_CLASSIFICATION/CNN_nail_classification_model.keras\")  # Adjust the path accordingly\n",
        "\n",
        "    # Extract the file path from the audio object\n",
        "    path = audio.name\n",
        "\n",
        "    # Define your class dictionary mapping indices to class names\n",
        "    print(\"classes_dict_cleaned : \",classes_dict_cleaned)\n",
        "\n",
        "    # Call the prediction function\n",
        "    img, predicted_class = prediction(path, model, classes_dict_cleaned)\n",
        "\n",
        "    return img, predicted_class\n",
        "\n",
        "# Main code to call the prediction function\n",
        "if __name__ == \"__main__\":\n",
        "    # Example path to an audio / AUDIO\n",
        "    audio_path = \"/content/drive/MyDrive/1.ALL-RESEARCH/0-TOE_NAIL_CLASSIFICATION/DATASET/Class 2 - Paronychia/frame_0513.jpg\"\n",
        "\n",
        "    # Assuming audio is an object similar to what would be passed by a UI (for testing)\n",
        "    class audioObject:\n",
        "        def __init__(self, name):\n",
        "            self.name = name\n",
        "\n",
        "    # Create an audio object\n",
        "    audio = audioObject(audio_path)\n",
        "\n",
        "    # Call the predict function\n",
        "    img, predicted_class = predict(audio)\n",
        "\n",
        "    # Optionally, print the predicted class for logging\n",
        "    print(f\"Final Predicted Class: {predicted_class}\")"
      ],
      "metadata": {
        "id": "1qCjDJUI3-ko"
      },
      "execution_count": null,
      "outputs": []
    }
  ],
  "metadata": {
    "kernelspec": {
      "display_name": "Python 3",
      "language": "python",
      "name": "python3"
    },
    "language_info": {
      "codemirror_mode": {
        "name": "ipython",
        "version": 3
      },
      "file_extension": ".py",
      "mimetype": "text/x-python",
      "name": "python",
      "nbconvert_exporter": "python",
      "pygments_lexer": "ipython3",
      "version": "3.11.4"
    },
    "colab": {
      "provenance": [],
      "include_colab_link": true
    }
  },
  "nbformat": 4,
  "nbformat_minor": 0
}